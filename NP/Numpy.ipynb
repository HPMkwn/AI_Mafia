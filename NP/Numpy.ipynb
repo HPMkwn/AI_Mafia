{
  "nbformat": 4,
  "nbformat_minor": 0,
  "metadata": {
    "colab": {
      "name": "Numpy.ipynb",
      "provenance": [],
      "collapsed_sections": []
    },
    "kernelspec": {
      "name": "python3",
      "display_name": "Python 3"
    }
  },
  "cells": [
    {
      "cell_type": "code",
      "metadata": {
        "id": "kBjElNFChBql",
        "colab_type": "code",
        "colab": {}
      },
      "source": [
        "#Question 1\n",
        "import numpy as np"
      ],
      "execution_count": 0,
      "outputs": []
    },
    {
      "cell_type": "code",
      "metadata": {
        "id": "f45ywfd2hFHA",
        "colab_type": "code",
        "outputId": "024ba8b7-9b70-4502-9621-f359b0813568",
        "colab": {
          "base_uri": "https://localhost:8080/",
          "height": 34
        }
      },
      "source": [
        "#Question 2\n",
        "np.version.version"
      ],
      "execution_count": 46,
      "outputs": [
        {
          "output_type": "execute_result",
          "data": {
            "text/plain": [
              "'1.16.5'"
            ]
          },
          "metadata": {
            "tags": []
          },
          "execution_count": 46
        }
      ]
    },
    {
      "cell_type": "code",
      "metadata": {
        "id": "GPrXqZziherX",
        "colab_type": "code",
        "colab": {}
      },
      "source": [
        "#Question 3\n",
        "arr = np.zeros(10)"
      ],
      "execution_count": 0,
      "outputs": []
    },
    {
      "cell_type": "code",
      "metadata": {
        "id": "Lswu71Ykhyx_",
        "colab_type": "code",
        "outputId": "20c1ff3b-d32f-4703-eea9-c8ec70cdab65",
        "colab": {
          "base_uri": "https://localhost:8080/",
          "height": 34
        }
      },
      "source": [
        "#Question 4 \n",
        "print(arr.size)"
      ],
      "execution_count": 48,
      "outputs": [
        {
          "output_type": "stream",
          "text": [
            "10\n"
          ],
          "name": "stdout"
        }
      ]
    },
    {
      "cell_type": "markdown",
      "metadata": {
        "id": "vVtn9RZmjDZN",
        "colab_type": "text"
      },
      "source": [
        "5.) by using question mark after writting the command\n"
      ]
    },
    {
      "cell_type": "code",
      "metadata": {
        "id": "yQpGD9IHjBoQ",
        "colab_type": "code",
        "outputId": "59b1a688-396a-4b61-872f-2f798c9a4f1c",
        "colab": {
          "base_uri": "https://localhost:8080/",
          "height": 34
        }
      },
      "source": [
        "#Question 6\n",
        "a = np.zeros(10)\n",
        "a[4] = 1\n",
        "print(a)"
      ],
      "execution_count": 49,
      "outputs": [
        {
          "output_type": "stream",
          "text": [
            "[0. 0. 0. 0. 1. 0. 0. 0. 0. 0.]\n"
          ],
          "name": "stdout"
        }
      ]
    },
    {
      "cell_type": "code",
      "metadata": {
        "id": "KBAPriTBjThs",
        "colab_type": "code",
        "outputId": "ce124348-182f-41b9-c676-05b49479d164",
        "colab": {
          "base_uri": "https://localhost:8080/",
          "height": 51
        }
      },
      "source": [
        "#Question 7\n",
        "b  = np.arange(10,50)\n",
        "print(b)"
      ],
      "execution_count": 50,
      "outputs": [
        {
          "output_type": "stream",
          "text": [
            "[10 11 12 13 14 15 16 17 18 19 20 21 22 23 24 25 26 27 28 29 30 31 32 33\n",
            " 34 35 36 37 38 39 40 41 42 43 44 45 46 47 48 49]\n"
          ],
          "name": "stdout"
        }
      ]
    },
    {
      "cell_type": "code",
      "metadata": {
        "id": "8aIE9H5ejn62",
        "colab_type": "code",
        "outputId": "1d33ede3-bb05-4cc4-f91b-a5e2afb26f94",
        "colab": {
          "base_uri": "https://localhost:8080/",
          "height": 51
        }
      },
      "source": [
        "#Question 8\n",
        "b = np.flip(b,0)\n",
        "print(b)"
      ],
      "execution_count": 51,
      "outputs": [
        {
          "output_type": "stream",
          "text": [
            "[49 48 47 46 45 44 43 42 41 40 39 38 37 36 35 34 33 32 31 30 29 28 27 26\n",
            " 25 24 23 22 21 20 19 18 17 16 15 14 13 12 11 10]\n"
          ],
          "name": "stdout"
        }
      ]
    },
    {
      "cell_type": "code",
      "metadata": {
        "id": "VH5rmq7QkA6d",
        "colab_type": "code",
        "outputId": "4eeda891-a0e0-40c5-9336-3bcfa995cb4f",
        "colab": {
          "base_uri": "https://localhost:8080/",
          "height": 68
        }
      },
      "source": [
        "#Question 9\n",
        "c = np.arange(9).reshape(3,3)\n",
        "print(c)"
      ],
      "execution_count": 52,
      "outputs": [
        {
          "output_type": "stream",
          "text": [
            "[[0 1 2]\n",
            " [3 4 5]\n",
            " [6 7 8]]\n"
          ],
          "name": "stdout"
        }
      ]
    },
    {
      "cell_type": "code",
      "metadata": {
        "id": "AAfnU8IIkRpv",
        "colab_type": "code",
        "outputId": "16cc0a57-65fc-4be5-d431-9084f811a5b5",
        "colab": {
          "base_uri": "https://localhost:8080/",
          "height": 34
        }
      },
      "source": [
        "#Question 10\n",
        "d = np.where([1,2,0,0,4,0])\n",
        "print(d)"
      ],
      "execution_count": 53,
      "outputs": [
        {
          "output_type": "stream",
          "text": [
            "(array([0, 1, 4]),)\n"
          ],
          "name": "stdout"
        }
      ]
    },
    {
      "cell_type": "code",
      "metadata": {
        "id": "vusvQlOtkve2",
        "colab_type": "code",
        "outputId": "0f6632f5-b5ae-4af8-fc27-e26b18c93988",
        "colab": {
          "base_uri": "https://localhost:8080/",
          "height": 68
        }
      },
      "source": [
        "#Question 11\n",
        "e = np.identity(3,dtype=\"int\")\n",
        "print(e)"
      ],
      "execution_count": 54,
      "outputs": [
        {
          "output_type": "stream",
          "text": [
            "[[1 0 0]\n",
            " [0 1 0]\n",
            " [0 0 1]]\n"
          ],
          "name": "stdout"
        }
      ]
    },
    {
      "cell_type": "code",
      "metadata": {
        "id": "CQuOiuN6kzXF",
        "colab_type": "code",
        "outputId": "c2bd8d6b-411c-4e5a-d66b-dcce7aa4522e",
        "colab": {
          "base_uri": "https://localhost:8080/",
          "height": 204
        }
      },
      "source": [
        "#Question 12\n",
        "np.random.rand(27).reshape(3,3,3)"
      ],
      "execution_count": 55,
      "outputs": [
        {
          "output_type": "execute_result",
          "data": {
            "text/plain": [
              "array([[[0.62905795, 0.20589162, 0.54785805],\n",
              "        [0.45606115, 0.54367811, 0.55806932],\n",
              "        [0.44653718, 0.70146801, 0.59075843]],\n",
              "\n",
              "       [[0.31512163, 0.44240296, 0.65624787],\n",
              "        [0.79806268, 0.26439945, 0.83443895],\n",
              "        [0.36116923, 0.14899891, 0.82231906]],\n",
              "\n",
              "       [[0.03773057, 0.69962851, 0.68212642],\n",
              "        [0.01243435, 0.44855728, 0.93872829],\n",
              "        [0.19700527, 0.17427126, 0.08457761]]])"
            ]
          },
          "metadata": {
            "tags": []
          },
          "execution_count": 55
        }
      ]
    },
    {
      "cell_type": "code",
      "metadata": {
        "id": "Rguv0V9ynLHu",
        "colab_type": "code",
        "outputId": "ac971c77-e21e-4422-cb2e-5a13258b9353",
        "colab": {
          "base_uri": "https://localhost:8080/",
          "height": 391
        }
      },
      "source": [
        "#Question 13\n",
        "f = np.random.rand(100).reshape(10,10)\n",
        "print(f)\n",
        "print(np.max(f))\n",
        "print(np.min(f))"
      ],
      "execution_count": 56,
      "outputs": [
        {
          "output_type": "stream",
          "text": [
            "[[0.11589115 0.82140806 0.59209088 0.77641325 0.03335695 0.69152251\n",
            "  0.3836049  0.64553434 0.4105805  0.00725744]\n",
            " [0.26536438 0.69905207 0.81143524 0.35301564 0.43011422 0.66429835\n",
            "  0.11152199 0.31585792 0.29747852 0.00138903]\n",
            " [0.72899045 0.52527789 0.1771192  0.49305584 0.92192287 0.31441248\n",
            "  0.23107872 0.45773215 0.953343   0.68782503]\n",
            " [0.05933919 0.74086948 0.48638978 0.04670179 0.41061416 0.72522588\n",
            "  0.58954797 0.78365062 0.10250746 0.52677665]\n",
            " [0.01823057 0.54787658 0.40252971 0.56097485 0.36456    0.44913494\n",
            "  0.69857905 0.64423387 0.43649778 0.53751406]\n",
            " [0.51941332 0.55433438 0.92739477 0.88582667 0.65351175 0.10461371\n",
            "  0.70176073 0.38654953 0.99413197 0.78889802]\n",
            " [0.91425531 0.48368124 0.29471146 0.35142969 0.69270683 0.19540908\n",
            "  0.02779225 0.43280698 0.2566414  0.65324272]\n",
            " [0.15938061 0.99609432 0.98354533 0.69673942 0.27868305 0.16242749\n",
            "  0.52884774 0.0301354  0.97814318 0.48020215]\n",
            " [0.65808003 0.04762312 0.99985999 0.05664755 0.04278185 0.95584574\n",
            "  0.20362679 0.86013138 0.19443115 0.80382178]\n",
            " [0.28112711 0.23089951 0.06564063 0.48636973 0.5427766  0.0522102\n",
            "  0.89766443 0.59465612 0.8580304  0.73501268]]\n",
            "0.9998599920224556\n",
            "0.0013890346820419897\n"
          ],
          "name": "stdout"
        }
      ]
    },
    {
      "cell_type": "code",
      "metadata": {
        "id": "oxDt_nmtoE3G",
        "colab_type": "code",
        "outputId": "27e970c6-99c6-4960-8325-b34c8a2fd306",
        "colab": {
          "base_uri": "https://localhost:8080/",
          "height": 34
        }
      },
      "source": [
        "#Question 14\n",
        "print(np.mean(np.random.rand(30),0))"
      ],
      "execution_count": 57,
      "outputs": [
        {
          "output_type": "stream",
          "text": [
            "0.47749974852810706\n"
          ],
          "name": "stdout"
        }
      ]
    },
    {
      "cell_type": "code",
      "metadata": {
        "id": "CaETj-S7oiN8",
        "colab_type": "code",
        "outputId": "e1fd87b5-ceea-4fd7-f684-b9e38b0c55b2",
        "colab": {
          "base_uri": "https://localhost:8080/",
          "height": 187
        }
      },
      "source": [
        "#Question 15\n",
        "g = np.ones((10,10))\n",
        "g[1:-1,1:-1] = 0\n",
        "print(g)"
      ],
      "execution_count": 58,
      "outputs": [
        {
          "output_type": "stream",
          "text": [
            "[[1. 1. 1. 1. 1. 1. 1. 1. 1. 1.]\n",
            " [1. 0. 0. 0. 0. 0. 0. 0. 0. 1.]\n",
            " [1. 0. 0. 0. 0. 0. 0. 0. 0. 1.]\n",
            " [1. 0. 0. 0. 0. 0. 0. 0. 0. 1.]\n",
            " [1. 0. 0. 0. 0. 0. 0. 0. 0. 1.]\n",
            " [1. 0. 0. 0. 0. 0. 0. 0. 0. 1.]\n",
            " [1. 0. 0. 0. 0. 0. 0. 0. 0. 1.]\n",
            " [1. 0. 0. 0. 0. 0. 0. 0. 0. 1.]\n",
            " [1. 0. 0. 0. 0. 0. 0. 0. 0. 1.]\n",
            " [1. 1. 1. 1. 1. 1. 1. 1. 1. 1.]]\n"
          ],
          "name": "stdout"
        }
      ]
    },
    {
      "cell_type": "code",
      "metadata": {
        "id": "QCdftTcspYCh",
        "colab_type": "code",
        "outputId": "74813872-2e80-4fe4-df61-ed37dc23c6db",
        "colab": {
          "base_uri": "https://localhost:8080/",
          "height": 102
        }
      },
      "source": [
        "#Question 16\n",
        "h = np.ones((3,3))\n",
        "h = np.pad(h,pad_width=1,mode=\"constant\",constant_values=0)\n",
        "print(h)"
      ],
      "execution_count": 59,
      "outputs": [
        {
          "output_type": "stream",
          "text": [
            "[[0. 0. 0. 0. 0.]\n",
            " [0. 1. 1. 1. 0.]\n",
            " [0. 1. 1. 1. 0.]\n",
            " [0. 1. 1. 1. 0.]\n",
            " [0. 0. 0. 0. 0.]]\n"
          ],
          "name": "stdout"
        }
      ]
    },
    {
      "cell_type": "code",
      "metadata": {
        "id": "yoGsXC0wqE8T",
        "colab_type": "code",
        "outputId": "ce6d410d-6a6b-4eba-e050-c94bb2b381d0",
        "colab": {
          "base_uri": "https://localhost:8080/",
          "height": 119
        }
      },
      "source": [
        "#Question 17\n",
        "print(0 * np.nan)\n",
        "print(np.nan == np.nan)\n",
        "print(np.inf > np.nan)\n",
        "print(np.nan - np.nan)\n",
        "print(np.nan in set([np.nan]))\n",
        "print(0.3 == 3 * 0.1)"
      ],
      "execution_count": 60,
      "outputs": [
        {
          "output_type": "stream",
          "text": [
            "nan\n",
            "False\n",
            "False\n",
            "nan\n",
            "True\n",
            "False\n"
          ],
          "name": "stdout"
        }
      ]
    },
    {
      "cell_type": "code",
      "metadata": {
        "id": "lSgfw_dLqroj",
        "colab_type": "code",
        "outputId": "02c6826e-5a55-4815-ea44-44fb70fceab2",
        "colab": {
          "base_uri": "https://localhost:8080/",
          "height": 102
        }
      },
      "source": [
        "#Question 18\n",
        "i = np.arange(4)\n",
        "i = i+1\n",
        "i = np.diag(i,k=-1)\n",
        "print(i)"
      ],
      "execution_count": 61,
      "outputs": [
        {
          "output_type": "stream",
          "text": [
            "[[0 0 0 0 0]\n",
            " [1 0 0 0 0]\n",
            " [0 2 0 0 0]\n",
            " [0 0 3 0 0]\n",
            " [0 0 0 4 0]]\n"
          ],
          "name": "stdout"
        }
      ]
    },
    {
      "cell_type": "code",
      "metadata": {
        "id": "xJIJcpO0KmVF",
        "colab_type": "code",
        "outputId": "ed9e41d8-176f-4293-a234-6bf542d3191c",
        "colab": {
          "base_uri": "https://localhost:8080/",
          "height": 153
        }
      },
      "source": [
        "#Question 19\n",
        "j = np.zeros((8,8))\n",
        "j[::2,::2]=1\n",
        "j[1::2,1::2]=1\n",
        "print(j)"
      ],
      "execution_count": 62,
      "outputs": [
        {
          "output_type": "stream",
          "text": [
            "[[1. 0. 1. 0. 1. 0. 1. 0.]\n",
            " [0. 1. 0. 1. 0. 1. 0. 1.]\n",
            " [1. 0. 1. 0. 1. 0. 1. 0.]\n",
            " [0. 1. 0. 1. 0. 1. 0. 1.]\n",
            " [1. 0. 1. 0. 1. 0. 1. 0.]\n",
            " [0. 1. 0. 1. 0. 1. 0. 1.]\n",
            " [1. 0. 1. 0. 1. 0. 1. 0.]\n",
            " [0. 1. 0. 1. 0. 1. 0. 1.]]\n"
          ],
          "name": "stdout"
        }
      ]
    },
    {
      "cell_type": "code",
      "metadata": {
        "id": "6_u6ILz_M6N9",
        "colab_type": "code",
        "outputId": "00051c6e-39b4-43d7-f73b-a929955f6f3d",
        "colab": {
          "base_uri": "https://localhost:8080/",
          "height": 34
        }
      },
      "source": [
        "#Question 20\n",
        "print(np.unravel_index(100,(6,7,8)))"
      ],
      "execution_count": 63,
      "outputs": [
        {
          "output_type": "stream",
          "text": [
            "(1, 5, 4)\n"
          ],
          "name": "stdout"
        }
      ]
    },
    {
      "cell_type": "code",
      "metadata": {
        "id": "mxiG-py_KmKR",
        "colab_type": "code",
        "colab": {
          "base_uri": "https://localhost:8080/",
          "height": 153
        },
        "outputId": "455a1541-72b3-4d95-d64f-c6b54ffb06ba"
      },
      "source": [
        "#Question 21\n",
        "Z = np.tile( np.array([[0,1],[1,0]]), (4,4))\n",
        "print(Z)"
      ],
      "execution_count": 64,
      "outputs": [
        {
          "output_type": "stream",
          "text": [
            "[[0 1 0 1 0 1 0 1]\n",
            " [1 0 1 0 1 0 1 0]\n",
            " [0 1 0 1 0 1 0 1]\n",
            " [1 0 1 0 1 0 1 0]\n",
            " [0 1 0 1 0 1 0 1]\n",
            " [1 0 1 0 1 0 1 0]\n",
            " [0 1 0 1 0 1 0 1]\n",
            " [1 0 1 0 1 0 1 0]]\n"
          ],
          "name": "stdout"
        }
      ]
    },
    {
      "cell_type": "code",
      "metadata": {
        "id": "eqYdqAPlNZGx",
        "colab_type": "code",
        "outputId": "d9e42f51-10be-40ae-be9b-afe7b9d57a56",
        "colab": {
          "base_uri": "https://localhost:8080/",
          "height": 170
        }
      },
      "source": [
        "#Question 22\n",
        "k = np.random.random((3,3))\n",
        "kmin , kmax = np.min(k) , np.max(k)\n",
        "print(k)\n",
        "print((k-kmin)/(kmax - kmin))\n",
        "kmean , kstd = np.mean(k) , np.std(k)\n",
        "print((k - kmean)/kstd)"
      ],
      "execution_count": 65,
      "outputs": [
        {
          "output_type": "stream",
          "text": [
            "[[0.43253963 0.83772037 0.96965634]\n",
            " [0.28859057 0.61738815 0.15681118]\n",
            " [0.87468792 0.11148771 0.18241063]]\n",
            "[[0.37411286 0.84625869 1.        ]\n",
            " [0.20637304 0.58951169 0.05281418]\n",
            " [0.88933595 0.         0.0826445 ]]\n",
            "[[-0.20239563  1.07356484  1.48904626]\n",
            " [-0.65570763  0.37971349 -1.070696  ]\n",
            " [ 1.18997987 -1.21342479 -0.99008041]]\n"
          ],
          "name": "stdout"
        }
      ]
    },
    {
      "cell_type": "code",
      "metadata": {
        "id": "U7eHYIthOWj1",
        "colab_type": "code",
        "outputId": "40c89fd3-4d1b-4682-cf07-c30bd106132f",
        "colab": {
          "base_uri": "https://localhost:8080/",
          "height": 34
        }
      },
      "source": [
        "#Question 23\n",
        "color = np.dtype([(\"r\", np.ubyte, 1),\n",
        "                  (\"g\", np.ubyte, 1),\n",
        "                  (\"b\", np.ubyte, 1),\n",
        "                  (\"a\", np.ubyte, 1)])      \n",
        "print(color)\n"
      ],
      "execution_count": 68,
      "outputs": [
        {
          "output_type": "stream",
          "text": [
            "[('r', 'u1'), ('g', 'u1'), ('b', 'u1'), ('a', 'u1')]\n"
          ],
          "name": "stdout"
        }
      ]
    },
    {
      "cell_type": "markdown",
      "metadata": {
        "id": "PjyWrryczPqa",
        "colab_type": "text"
      },
      "source": [
        ""
      ]
    },
    {
      "cell_type": "code",
      "metadata": {
        "id": "StzDNUQkycMg",
        "colab_type": "code",
        "outputId": "829d03a3-01f2-4613-8ebd-8bc0813bc2b5",
        "colab": {
          "base_uri": "https://localhost:8080/",
          "height": 102
        }
      },
      "source": [
        "#Question 24 \n",
        "print(np.dot(np.arange(15).reshape(5,3),np.arange(6).reshape(3,2)))"
      ],
      "execution_count": 69,
      "outputs": [
        {
          "output_type": "stream",
          "text": [
            "[[ 10  13]\n",
            " [ 28  40]\n",
            " [ 46  67]\n",
            " [ 64  94]\n",
            " [ 82 121]]\n"
          ],
          "name": "stdout"
        }
      ]
    },
    {
      "cell_type": "code",
      "metadata": {
        "id": "lVboUCsZy5Xy",
        "colab_type": "code",
        "outputId": "37f403ac-3cd0-4f04-9783-8deb8e9e2dae",
        "colab": {
          "base_uri": "https://localhost:8080/",
          "height": 34
        }
      },
      "source": [
        "#Question 25 \n",
        "l = np.arange(15)\n",
        "l[(l>3) & (l<8)] *= -1\n",
        "print(l)"
      ],
      "execution_count": 70,
      "outputs": [
        {
          "output_type": "stream",
          "text": [
            "[ 0  1  2  3 -4 -5 -6 -7  8  9 10 11 12 13 14]\n"
          ],
          "name": "stdout"
        }
      ]
    },
    {
      "cell_type": "code",
      "metadata": {
        "id": "AZfD6VLEDPYy",
        "colab_type": "code",
        "outputId": "966e3624-5c21-438d-d885-e9f7e880a661",
        "colab": {
          "base_uri": "https://localhost:8080/",
          "height": 197
        }
      },
      "source": [
        "#Question 26\n",
        "print(sum(range(5),-1))\n",
        "from numpy import *\n",
        "print(sum(range(5),-1))"
      ],
      "execution_count": 72,
      "outputs": [
        {
          "output_type": "error",
          "ename": "TypeError",
          "evalue": "ignored",
          "traceback": [
            "\u001b[0;31m---------------------------------------------------------------------------\u001b[0m",
            "\u001b[0;31mTypeError\u001b[0m                                 Traceback (most recent call last)",
            "\u001b[0;32m<ipython-input-72-3cdde29df6a5>\u001b[0m in \u001b[0;36m<module>\u001b[0;34m()\u001b[0m\n\u001b[0;32m----> 1\u001b[0;31m \u001b[0mprint\u001b[0m\u001b[0;34m(\u001b[0m\u001b[0msum\u001b[0m\u001b[0;34m(\u001b[0m\u001b[0mrange\u001b[0m\u001b[0;34m(\u001b[0m\u001b[0;36m5\u001b[0m\u001b[0;34m)\u001b[0m\u001b[0;34m,\u001b[0m\u001b[0;34m-\u001b[0m\u001b[0;36m1\u001b[0m\u001b[0;34m)\u001b[0m\u001b[0;34m)\u001b[0m\u001b[0;34m\u001b[0m\u001b[0;34m\u001b[0m\u001b[0m\n\u001b[0m\u001b[1;32m      2\u001b[0m \u001b[0;32mfrom\u001b[0m \u001b[0mnumpy\u001b[0m \u001b[0;32mimport\u001b[0m \u001b[0;34m*\u001b[0m\u001b[0;34m\u001b[0m\u001b[0;34m\u001b[0m\u001b[0m\n\u001b[1;32m      3\u001b[0m \u001b[0mprint\u001b[0m\u001b[0;34m(\u001b[0m\u001b[0msum\u001b[0m\u001b[0;34m(\u001b[0m\u001b[0mrange\u001b[0m\u001b[0;34m(\u001b[0m\u001b[0;36m5\u001b[0m\u001b[0;34m)\u001b[0m\u001b[0;34m,\u001b[0m\u001b[0;34m-\u001b[0m\u001b[0;36m1\u001b[0m\u001b[0;34m)\u001b[0m\u001b[0;34m)\u001b[0m\u001b[0;34m\u001b[0m\u001b[0;34m\u001b[0m\u001b[0m\n",
            "\u001b[0;31mTypeError\u001b[0m: 'numpy.ndarray' object is not callable"
          ]
        }
      ]
    },
    {
      "cell_type": "code",
      "metadata": {
        "id": "st9d82__ETSP",
        "colab_type": "code",
        "outputId": "8a02aad3-7809-4afd-8748-35f44c691a64",
        "colab": {
          "base_uri": "https://localhost:8080/",
          "height": 119
        }
      },
      "source": [
        "#Question 27\n",
        "Z = np.arange(5)\n",
        "print(Z**Z)\n",
        "print(2 << Z >> 2)\n",
        "print(Z <- Z)\n",
        "print(1j*Z)\n",
        "print(Z/1/1)\n",
        "print(Z<<Z>>Z)"
      ],
      "execution_count": 73,
      "outputs": [
        {
          "output_type": "stream",
          "text": [
            "[  1   1   4  27 256]\n",
            "[0 1 2 4 8]\n",
            "[False False False False False]\n",
            "[0.+0.j 0.+1.j 0.+2.j 0.+3.j 0.+4.j]\n",
            "[0. 1. 2. 3. 4.]\n",
            "[0 1 2 3 4]\n"
          ],
          "name": "stdout"
        }
      ]
    },
    {
      "cell_type": "code",
      "metadata": {
        "id": "mwdTHQO-GvgZ",
        "colab_type": "code",
        "outputId": "2285c016-b914-40f9-8c5e-5e1ccd89f9d3",
        "colab": {
          "base_uri": "https://localhost:8080/",
          "height": 136
        }
      },
      "source": [
        "#Question 28\n",
        "print(np.array(0) / np.array(0))\n",
        "print(np.array(0) // np.array(0))\n",
        "print(np.array([np.nan]).astype(int).astype(float))"
      ],
      "execution_count": 74,
      "outputs": [
        {
          "output_type": "stream",
          "text": [
            "nan\n",
            "0\n",
            "[-9.22337204e+18]\n"
          ],
          "name": "stdout"
        },
        {
          "output_type": "stream",
          "text": [
            "/usr/local/lib/python3.6/dist-packages/ipykernel_launcher.py:1: RuntimeWarning: invalid value encountered in true_divide\n",
            "  \"\"\"Entry point for launching an IPython kernel.\n",
            "/usr/local/lib/python3.6/dist-packages/ipykernel_launcher.py:2: RuntimeWarning: divide by zero encountered in floor_divide\n",
            "  \n"
          ],
          "name": "stderr"
        }
      ]
    },
    {
      "cell_type": "code",
      "metadata": {
        "id": "b0n2trhGIfGr",
        "colab_type": "code",
        "outputId": "0c85ddc8-720c-4c0e-f0e8-4935b9663aa0",
        "colab": {
          "base_uri": "https://localhost:8080/",
          "height": 34
        }
      },
      "source": [
        "#Question 29\n",
        "array1 = np.array([1,2,4,5,6,7,8])\n",
        "array2 = np.array([2,3,4,7,8])\n",
        "print(np.intersect1d(array1,array2))"
      ],
      "execution_count": 75,
      "outputs": [
        {
          "output_type": "stream",
          "text": [
            "[2 4 7 8]\n"
          ],
          "name": "stdout"
        }
      ]
    },
    {
      "cell_type": "code",
      "metadata": {
        "id": "gbGPKtGNNWyB",
        "colab_type": "code",
        "outputId": "7f1e5f72-fe03-4349-e88d-f40b8077b53e",
        "colab": {
          "base_uri": "https://localhost:8080/",
          "height": 68
        }
      },
      "source": [
        "#Question 32\n",
        "print(np.sqrt(-1) == np.emath.sqrt(-1))"
      ],
      "execution_count": 79,
      "outputs": [
        {
          "output_type": "stream",
          "text": [
            "False\n"
          ],
          "name": "stdout"
        },
        {
          "output_type": "stream",
          "text": [
            "/usr/local/lib/python3.6/dist-packages/ipykernel_launcher.py:1: RuntimeWarning: invalid value encountered in sqrt\n",
            "  \"\"\"Entry point for launching an IPython kernel.\n"
          ],
          "name": "stderr"
        }
      ]
    },
    {
      "cell_type": "code",
      "metadata": {
        "id": "oANcadPKNrHz",
        "colab_type": "code",
        "outputId": "6395fdc0-528b-4931-bff7-7a346da28cb2",
        "colab": {
          "base_uri": "https://localhost:8080/",
          "height": 68
        }
      },
      "source": [
        "#Question 33\n",
        "print(\"Yesterday\", np.datetime64('today','D') - np.timedelta64(1,'D'))\n",
        "print(\"Today\", np.datetime64('today','D'))\n",
        "print(\"Tomorrow\", np.datetime64('today','D') + np.timedelta64(1,'D'))\n"
      ],
      "execution_count": 80,
      "outputs": [
        {
          "output_type": "stream",
          "text": [
            "Yesterday 2019-10-13\n",
            "Today 2019-10-14\n",
            "Tomorrow 2019-10-15\n"
          ],
          "name": "stdout"
        }
      ]
    },
    {
      "cell_type": "code",
      "metadata": {
        "id": "pSvPuLJFOZ5S",
        "colab_type": "code",
        "outputId": "ef40a826-92a2-4043-c360-33f5fd7ec98f",
        "colab": {
          "base_uri": "https://localhost:8080/",
          "height": 136
        }
      },
      "source": [
        "#Question 34\n",
        "m = np.arange('2017-07','2017-08',dtype='datetime64[D]')\n",
        "print(m)"
      ],
      "execution_count": 81,
      "outputs": [
        {
          "output_type": "stream",
          "text": [
            "['2017-07-01' '2017-07-02' '2017-07-03' '2017-07-04' '2017-07-05'\n",
            " '2017-07-06' '2017-07-07' '2017-07-08' '2017-07-09' '2017-07-10'\n",
            " '2017-07-11' '2017-07-12' '2017-07-13' '2017-07-14' '2017-07-15'\n",
            " '2017-07-16' '2017-07-17' '2017-07-18' '2017-07-19' '2017-07-20'\n",
            " '2017-07-21' '2017-07-22' '2017-07-23' '2017-07-24' '2017-07-25'\n",
            " '2017-07-26' '2017-07-27' '2017-07-28' '2017-07-29' '2017-07-30'\n",
            " '2017-07-31']\n"
          ],
          "name": "stdout"
        }
      ]
    },
    {
      "cell_type": "code",
      "metadata": {
        "id": "5Gv0VYuOO2iP",
        "colab_type": "code",
        "outputId": "d77667b1-4059-4181-aaf4-764f8765591c",
        "colab": {
          "base_uri": "https://localhost:8080/",
          "height": 34
        }
      },
      "source": [
        "#Question 35\n",
        "A = np.ones(3)*1\n",
        "B = np.ones(3)*2\n",
        "C = np.ones(3)*3\n",
        "np.add(A,B,out=B)\n",
        "np.divide(A,2,out=A)\n",
        "np.negative(A,out=A)\n",
        "np.divide(A,B,out=A)"
      ],
      "execution_count": 82,
      "outputs": [
        {
          "output_type": "execute_result",
          "data": {
            "text/plain": [
              "array([-0.16666667, -0.16666667, -0.16666667])"
            ]
          },
          "metadata": {
            "tags": []
          },
          "execution_count": 82
        }
      ]
    },
    {
      "cell_type": "code",
      "metadata": {
        "id": "v87ZkHEyUHuy",
        "colab_type": "code",
        "outputId": "5df4facf-6658-4688-e92c-d9db2dbefc72",
        "colab": {
          "base_uri": "https://localhost:8080/",
          "height": 136
        }
      },
      "source": [
        "#Question 36\n",
        "n = np.random.uniform(0,10,10)\n",
        "print(n)\n",
        "\n",
        "print(n - n%1)\n",
        "print(np.floor(n))\n",
        "print(n.astype(int))\n",
        "print(np.ceil(n)-1)\n",
        "print(np.trunc(n))"
      ],
      "execution_count": 86,
      "outputs": [
        {
          "output_type": "stream",
          "text": [
            "[4.94788809 0.37202656 1.51653078 0.05176849 4.74245033 9.97003092\n",
            " 9.11132444 3.10553641 2.53149621 2.4181235 ]\n",
            "[4. 0. 1. 0. 4. 9. 9. 3. 2. 2.]\n",
            "[4. 0. 1. 0. 4. 9. 9. 3. 2. 2.]\n",
            "[4 0 1 0 4 9 9 3 2 2]\n",
            "[4. 0. 1. 0. 4. 9. 9. 3. 2. 2.]\n",
            "[4. 0. 1. 0. 4. 9. 9. 3. 2. 2.]\n"
          ],
          "name": "stdout"
        }
      ]
    },
    {
      "cell_type": "code",
      "metadata": {
        "id": "09piaU4rpcoP",
        "colab_type": "code",
        "outputId": "f91df479-4e0c-4740-c1d1-a5bdfd40c4ae",
        "colab": {
          "base_uri": "https://localhost:8080/",
          "height": 102
        }
      },
      "source": [
        "#Question 37\n",
        "o = np.zeros((5,5))\n",
        "o += np.arange(5)\n",
        "print(o)"
      ],
      "execution_count": 87,
      "outputs": [
        {
          "output_type": "stream",
          "text": [
            "[[0. 1. 2. 3. 4.]\n",
            " [0. 1. 2. 3. 4.]\n",
            " [0. 1. 2. 3. 4.]\n",
            " [0. 1. 2. 3. 4.]\n",
            " [0. 1. 2. 3. 4.]]\n"
          ],
          "name": "stdout"
        }
      ]
    },
    {
      "cell_type": "code",
      "metadata": {
        "id": "4hK4dknNsH0L",
        "colab_type": "code",
        "outputId": "c64a7e48-715b-404e-f6f5-05db779b017d",
        "colab": {
          "base_uri": "https://localhost:8080/",
          "height": 51
        }
      },
      "source": [
        "#Question 38\n",
        "p = np.linspace(0,1,11,endpoint=False)[1:]\n",
        "print(p)"
      ],
      "execution_count": 88,
      "outputs": [
        {
          "output_type": "stream",
          "text": [
            "[0.09090909 0.18181818 0.27272727 0.36363636 0.45454545 0.54545455\n",
            " 0.63636364 0.72727273 0.81818182 0.90909091]\n"
          ],
          "name": "stdout"
        }
      ]
    },
    {
      "cell_type": "code",
      "metadata": {
        "id": "ESV_8mPVsqJd",
        "colab_type": "code",
        "outputId": "e69acadc-7175-410c-9b6f-ea556893ab99",
        "colab": {
          "base_uri": "https://localhost:8080/",
          "height": 51
        }
      },
      "source": [
        "#Question 40\n",
        "q = np.random.random(10)\n",
        "q = np.sort(q)\n",
        "print(q)"
      ],
      "execution_count": 91,
      "outputs": [
        {
          "output_type": "stream",
          "text": [
            "[0.12213068 0.14192559 0.18070741 0.25132862 0.31210958 0.38641511\n",
            " 0.55668504 0.87828916 0.88350831 0.91360114]\n"
          ],
          "name": "stdout"
        }
      ]
    },
    {
      "cell_type": "code",
      "metadata": {
        "id": "ltiXz3C8tlSK",
        "colab_type": "code",
        "outputId": "8428cba6-31fd-424c-b6c6-b65eae6fe058",
        "colab": {
          "base_uri": "https://localhost:8080/",
          "height": 34
        }
      },
      "source": [
        "#Question 41\n",
        "r = np.arange(10)\n",
        "print(np.add.reduce(r))"
      ],
      "execution_count": 92,
      "outputs": [
        {
          "output_type": "stream",
          "text": [
            "45\n"
          ],
          "name": "stdout"
        }
      ]
    },
    {
      "cell_type": "code",
      "metadata": {
        "id": "rYHhMUyyx9Tf",
        "colab_type": "code",
        "outputId": "33d650c2-8f96-4780-f2e0-991109da80f1",
        "colab": {
          "base_uri": "https://localhost:8080/",
          "height": 34
        }
      },
      "source": [
        "#Question 42\n",
        "A = np.random.random(10).reshape(5,2)\n",
        "B = np.random.random(10).reshape(5,2)\n",
        "\n",
        "print(np.array_equal(A,B))"
      ],
      "execution_count": 93,
      "outputs": [
        {
          "output_type": "stream",
          "text": [
            "False\n"
          ],
          "name": "stdout"
        }
      ]
    },
    {
      "cell_type": "code",
      "metadata": {
        "id": "-4Ck7X5xx_Ix",
        "colab_type": "code",
        "colab": {}
      },
      "source": [
        "#Question 43\n",
        "s = np.zeros(3)\n",
        "s.flags.writeable = False"
      ],
      "execution_count": 0,
      "outputs": []
    },
    {
      "cell_type": "code",
      "metadata": {
        "id": "gjjfmO4Gzf7i",
        "colab_type": "code",
        "outputId": "76174201-2d3a-45b4-b2d6-5c4a5abef241",
        "colab": {
          "base_uri": "https://localhost:8080/",
          "height": 85
        }
      },
      "source": [
        "#Question 44\n",
        "t = np.random.random((10,2))\n",
        "X,Y = t[:,0],t[:,1]\n",
        "R = np.sqrt(X**2+Y**2)\n",
        "T = np.arctan2(Y,X)\n",
        "print(R)\n",
        "print(T)"
      ],
      "execution_count": 95,
      "outputs": [
        {
          "output_type": "stream",
          "text": [
            "[0.85449242 0.96578907 0.59648482 1.30963224 1.33370174 0.62353987\n",
            " 1.07472372 0.52353385 1.08638349 1.31535219]\n",
            "[1.42551861 1.46152676 0.3281328  0.75519363 0.77488752 0.83079704\n",
            " 1.12547075 0.08739942 0.83923536 0.84459455]\n"
          ],
          "name": "stdout"
        }
      ]
    },
    {
      "cell_type": "code",
      "metadata": {
        "id": "i3vRotl_1Ul5",
        "colab_type": "code",
        "outputId": "78c08cd3-ccd4-46b3-cfba-7d18692a89d5",
        "colab": {
          "base_uri": "https://localhost:8080/",
          "height": 51
        }
      },
      "source": [
        "#Question 45\n",
        "u = np.random.random(10)\n",
        "u[np.argmax(u)]=0\n",
        "print(u)"
      ],
      "execution_count": 96,
      "outputs": [
        {
          "output_type": "stream",
          "text": [
            "[0.76764917 0.48979615 0.36514155 0.70054053 0.84507165 0.95068714\n",
            " 0.24484422 0.         0.54846483 0.113288  ]\n"
          ],
          "name": "stdout"
        }
      ]
    },
    {
      "cell_type": "code",
      "metadata": {
        "id": "CrV3aF654wXO",
        "colab_type": "code",
        "outputId": "54239298-dcbb-4c49-d290-ac276364b609",
        "colab": {
          "base_uri": "https://localhost:8080/",
          "height": 102
        }
      },
      "source": [
        "#Question 46\n",
        "v = np.zeros((5,5), [('x',float),('y',float)])\n",
        "v['x'], v['y'] = np.meshgrid(np.linspace(0,1,5),\n",
        "                             np.linspace(0,1,5))\n",
        "print(v)"
      ],
      "execution_count": 97,
      "outputs": [
        {
          "output_type": "stream",
          "text": [
            "[[(0.  , 0.  ) (0.25, 0.  ) (0.5 , 0.  ) (0.75, 0.  ) (1.  , 0.  )]\n",
            " [(0.  , 0.25) (0.25, 0.25) (0.5 , 0.25) (0.75, 0.25) (1.  , 0.25)]\n",
            " [(0.  , 0.5 ) (0.25, 0.5 ) (0.5 , 0.5 ) (0.75, 0.5 ) (1.  , 0.5 )]\n",
            " [(0.  , 0.75) (0.25, 0.75) (0.5 , 0.75) (0.75, 0.75) (1.  , 0.75)]\n",
            " [(0.  , 1.  ) (0.25, 1.  ) (0.5 , 1.  ) (0.75, 1.  ) (1.  , 1.  )]]\n"
          ],
          "name": "stdout"
        }
      ]
    },
    {
      "cell_type": "code",
      "metadata": {
        "id": "fdkwy-0V7Lpb",
        "colab_type": "code",
        "outputId": "39f9cac4-c567-457d-fd7c-ccb8ae788e09",
        "colab": {
          "base_uri": "https://localhost:8080/",
          "height": 289
        }
      },
      "source": [
        "#Question 49\n",
        "Z = np.zeros((16,16))\n",
        "print(Z)"
      ],
      "execution_count": 99,
      "outputs": [
        {
          "output_type": "stream",
          "text": [
            "[[0. 0. 0. 0. 0. 0. 0. 0. 0. 0. 0. 0. 0. 0. 0. 0.]\n",
            " [0. 0. 0. 0. 0. 0. 0. 0. 0. 0. 0. 0. 0. 0. 0. 0.]\n",
            " [0. 0. 0. 0. 0. 0. 0. 0. 0. 0. 0. 0. 0. 0. 0. 0.]\n",
            " [0. 0. 0. 0. 0. 0. 0. 0. 0. 0. 0. 0. 0. 0. 0. 0.]\n",
            " [0. 0. 0. 0. 0. 0. 0. 0. 0. 0. 0. 0. 0. 0. 0. 0.]\n",
            " [0. 0. 0. 0. 0. 0. 0. 0. 0. 0. 0. 0. 0. 0. 0. 0.]\n",
            " [0. 0. 0. 0. 0. 0. 0. 0. 0. 0. 0. 0. 0. 0. 0. 0.]\n",
            " [0. 0. 0. 0. 0. 0. 0. 0. 0. 0. 0. 0. 0. 0. 0. 0.]\n",
            " [0. 0. 0. 0. 0. 0. 0. 0. 0. 0. 0. 0. 0. 0. 0. 0.]\n",
            " [0. 0. 0. 0. 0. 0. 0. 0. 0. 0. 0. 0. 0. 0. 0. 0.]\n",
            " [0. 0. 0. 0. 0. 0. 0. 0. 0. 0. 0. 0. 0. 0. 0. 0.]\n",
            " [0. 0. 0. 0. 0. 0. 0. 0. 0. 0. 0. 0. 0. 0. 0. 0.]\n",
            " [0. 0. 0. 0. 0. 0. 0. 0. 0. 0. 0. 0. 0. 0. 0. 0.]\n",
            " [0. 0. 0. 0. 0. 0. 0. 0. 0. 0. 0. 0. 0. 0. 0. 0.]\n",
            " [0. 0. 0. 0. 0. 0. 0. 0. 0. 0. 0. 0. 0. 0. 0. 0.]\n",
            " [0. 0. 0. 0. 0. 0. 0. 0. 0. 0. 0. 0. 0. 0. 0. 0.]]\n"
          ],
          "name": "stdout"
        }
      ]
    },
    {
      "cell_type": "code",
      "metadata": {
        "id": "6RWoep5o8dtF",
        "colab_type": "code",
        "outputId": "1ac09045-fe61-4a1d-ddc1-81454d42b4db",
        "colab": {
          "base_uri": "https://localhost:8080/",
          "height": 34
        }
      },
      "source": [
        "#Question 47\n",
        "X = np.arange(8)\n",
        "Y = X + 0.5\n",
        "C = 1.0 / np.subtract.outer(X, Y)\n",
        "print(np.linalg.det(C))"
      ],
      "execution_count": 100,
      "outputs": [
        {
          "output_type": "stream",
          "text": [
            "3638.163637117973\n"
          ],
          "name": "stdout"
        }
      ]
    },
    {
      "cell_type": "code",
      "metadata": {
        "id": "5eshDW22O7LM",
        "colab_type": "code",
        "outputId": "ec98de13-cfde-4186-92f5-955ecee1842a",
        "colab": {
          "base_uri": "https://localhost:8080/",
          "height": 272
        }
      },
      "source": [
        "#Question 48\n",
        "for dtype in [np.int8, np.int32,np.int64]:\n",
        "  print(np.iinfo(dtype).min)\n",
        "  print(np.iinfo(dtype).max,\"\\n\")\n",
        "\n",
        "for dtype in [np.float32, np.float64]:\n",
        "  print(np.finfo(dtype).min)\n",
        "  print(np.finfo(dtype).max,\"\\n\")"
      ],
      "execution_count": 101,
      "outputs": [
        {
          "output_type": "stream",
          "text": [
            "-128\n",
            "127 \n",
            "\n",
            "-2147483648\n",
            "2147483647 \n",
            "\n",
            "-9223372036854775808\n",
            "9223372036854775807 \n",
            "\n",
            "-3.4028235e+38\n",
            "3.4028235e+38 \n",
            "\n",
            "-1.7976931348623157e+308\n",
            "1.7976931348623157e+308 \n",
            "\n"
          ],
          "name": "stdout"
        }
      ]
    },
    {
      "cell_type": "code",
      "metadata": {
        "id": "rDcCL8keReQi",
        "colab_type": "code",
        "outputId": "302214da-30cb-4743-d0be-11d6629680b6",
        "colab": {
          "base_uri": "https://localhost:8080/",
          "height": 34
        }
      },
      "source": [
        "#Question 50\n",
        "w = np.arange(100)\n",
        "val = np.random.uniform(0,100)\n",
        "index = (np.abs(w-val)).argmin()\n",
        "print(w[index])"
      ],
      "execution_count": 102,
      "outputs": [
        {
          "output_type": "stream",
          "text": [
            "27\n"
          ],
          "name": "stdout"
        }
      ]
    },
    {
      "cell_type": "code",
      "metadata": {
        "id": "Fugs6DCoSWH0",
        "colab_type": "code",
        "outputId": "9543ae28-5c5a-407b-9244-e0b3c87f40c6",
        "colab": {
          "base_uri": "https://localhost:8080/",
          "height": 102
        }
      },
      "source": [
        "#Question 51\n",
        "print(np.zeros(10,[ ('position', [('x',float,1),('y',float,1)]),\n",
        "                    ('color' , [('r',float,1),('g',float,1),('b',float,1)])]))"
      ],
      "execution_count": 103,
      "outputs": [
        {
          "output_type": "stream",
          "text": [
            "[((0., 0.), (0., 0., 0.)) ((0., 0.), (0., 0., 0.))\n",
            " ((0., 0.), (0., 0., 0.)) ((0., 0.), (0., 0., 0.))\n",
            " ((0., 0.), (0., 0., 0.)) ((0., 0.), (0., 0., 0.))\n",
            " ((0., 0.), (0., 0., 0.)) ((0., 0.), (0., 0., 0.))\n",
            " ((0., 0.), (0., 0., 0.)) ((0., 0.), (0., 0., 0.))]\n"
          ],
          "name": "stdout"
        }
      ]
    },
    {
      "cell_type": "code",
      "metadata": {
        "id": "dbQSJR3lWRcg",
        "colab_type": "code",
        "outputId": "0c2d8bd9-1e4f-452f-e061-a68f3e403f85",
        "colab": {
          "base_uri": "https://localhost:8080/",
          "height": 714
        }
      },
      "source": [
        "#Question 52\n",
        "\n",
        "x = np.random.random((10,2))\n",
        "X,Y = np.atleast_2d(x[:,0], x[:,1])\n",
        "D = np.sqrt( (X-X.T)**2 + (Y-Y.T)**2)\n",
        "print(D,\"\\n\")\n",
        "import scipy\n",
        "import scipy.spatial\n",
        "x = np.random.random((10,2))\n",
        "D = scipy.spatial.distance.cdist(x,x)\n",
        "\n",
        "print(D)"
      ],
      "execution_count": 104,
      "outputs": [
        {
          "output_type": "stream",
          "text": [
            "[[0.         0.68648268 0.7535493  0.17028233 0.53838756 0.3857237\n",
            "  0.42337881 0.40540396 0.60683727 0.3345622 ]\n",
            " [0.68648268 0.         0.60204448 0.6768602  0.27268995 0.96958811\n",
            "  0.39406014 0.82636649 0.19194733 0.69903861]\n",
            " [0.7535493  0.60204448 0.         0.87037975 0.76923071 0.77202825\n",
            "  0.80269059 0.55280592 0.73846691 0.4885005 ]\n",
            " [0.17028233 0.6768602  0.87037975 0.         0.47059302 0.5431641\n",
            "  0.33444303 0.57513276 0.55396881 0.4963675 ]\n",
            " [0.53838756 0.27268995 0.76923071 0.47059302 0.         0.89120895\n",
            "  0.14131474 0.80594242 0.09195558 0.68066986]\n",
            " [0.3857237  0.96958811 0.77202825 0.5431641  0.89120895 0.\n",
            "  0.79527176 0.22093726 0.94318434 0.30263816]\n",
            " [0.42337881 0.39406014 0.80269059 0.33444303 0.14131474 0.79527176\n",
            "  0.         0.73995898 0.23156768 0.62183095]\n",
            " [0.40540396 0.82636649 0.55280592 0.57513276 0.80594242 0.22093726\n",
            "  0.73995898 0.         0.83922275 0.12855324]\n",
            " [0.60683727 0.19194733 0.73846691 0.55396881 0.09195558 0.94318434\n",
            "  0.23156768 0.83922275 0.         0.71148087]\n",
            " [0.3345622  0.69903861 0.4885005  0.4963675  0.68066986 0.30263816\n",
            "  0.62183095 0.12855324 0.71148087 0.        ]] \n",
            "\n",
            "[[0.         0.51864225 0.4281639  0.52785272 0.17574384 0.09470574\n",
            "  0.63392339 0.45866955 0.61603943 0.40100012]\n",
            " [0.51864225 0.         0.2009346  0.26944286 0.63012451 0.43757088\n",
            "  0.72920584 0.51857434 0.24823844 0.18460308]\n",
            " [0.4281639  0.2009346  0.         0.11916965 0.49095165 0.37475236\n",
            "  0.52949323 0.31764426 0.18826903 0.28402348]\n",
            " [0.52785272 0.26944286 0.11916965 0.         0.56325434 0.48456879\n",
            "  0.48203878 0.29531307 0.10945838 0.39357545]\n",
            " [0.17574384 0.63012451 0.49095165 0.56325434 0.         0.26236088\n",
            "  0.5230918  0.39616939 0.66627769 0.54764333]\n",
            " [0.09470574 0.43757088 0.37475236 0.48456879 0.26236088 0.\n",
            "  0.66641616 0.47165573 0.56214978 0.30830871]\n",
            " [0.63392339 0.72920584 0.52949323 0.48203878 0.5230918  0.66641616\n",
            "  0.         0.21928189 0.57236759 0.7832302 ]\n",
            " [0.45866955 0.51857434 0.31764426 0.29531307 0.39616939 0.47165573\n",
            "  0.21928189 0.         0.39974195 0.56394912]\n",
            " [0.61603943 0.24823844 0.18826903 0.10945838 0.66627769 0.56214978\n",
            "  0.57236759 0.39974195 0.         0.41092474]\n",
            " [0.40100012 0.18460308 0.28402348 0.39357545 0.54764333 0.30830871\n",
            "  0.7832302  0.56394912 0.41092474 0.        ]]\n"
          ],
          "name": "stdout"
        }
      ]
    },
    {
      "cell_type": "code",
      "metadata": {
        "id": "w5EtnkFvXHu-",
        "colab_type": "code",
        "outputId": "29b2b221-2910-4912-e691-06260a69a56a",
        "colab": {
          "base_uri": "https://localhost:8080/",
          "height": 51
        }
      },
      "source": [
        "#Question 53\n",
        "y = np.arange(10,dtype=np.float32)\n",
        "print(y)\n",
        "y = y.astype(np.int32,copy=False)\n",
        "print(y)"
      ],
      "execution_count": 105,
      "outputs": [
        {
          "output_type": "stream",
          "text": [
            "[0. 1. 2. 3. 4. 5. 6. 7. 8. 9.]\n",
            "[0 1 2 3 4 5 6 7 8 9]\n"
          ],
          "name": "stdout"
        }
      ]
    },
    {
      "cell_type": "code",
      "metadata": {
        "id": "OFfJA5KMXrz4",
        "colab_type": "code",
        "outputId": "8a806f7b-53f8-4751-ad1f-297edae526d9",
        "colab": {
          "base_uri": "https://localhost:8080/",
          "height": 68
        }
      },
      "source": [
        "#Question 54\n",
        "from io import StringIO\n",
        "\n",
        "# Fake file\n",
        "s = StringIO(\"\"\"1, 2, 3, 4, 5\\n\n",
        "                6,  ,  , 7, 8\\n\n",
        "                 ,  , 9,10,11\\n\"\"\")\n",
        "Z = np.genfromtxt(s, delimiter=\",\", dtype=np.int)\n",
        "print(Z)"
      ],
      "execution_count": 106,
      "outputs": [
        {
          "output_type": "stream",
          "text": [
            "[[ 1  2  3  4  5]\n",
            " [ 6 -1 -1  7  8]\n",
            " [-1 -1  9 10 11]]\n"
          ],
          "name": "stdout"
        }
      ]
    },
    {
      "cell_type": "code",
      "metadata": {
        "id": "zn4jCDZma_md",
        "colab_type": "code",
        "outputId": "6320ac34-6a36-4334-b282-cf5701f5984f",
        "colab": {
          "base_uri": "https://localhost:8080/",
          "height": 323
        }
      },
      "source": [
        "#Question 55\n",
        "z = np.arange(9).reshape(3,3)\n",
        "for index, value in np.ndenumerate(z):\n",
        "    print(index, value)\n",
        "for index in np.ndindex(z.shape):\n",
        "    print(index, z[index])"
      ],
      "execution_count": 107,
      "outputs": [
        {
          "output_type": "stream",
          "text": [
            "(0, 0) 0\n",
            "(0, 1) 1\n",
            "(0, 2) 2\n",
            "(1, 0) 3\n",
            "(1, 1) 4\n",
            "(1, 2) 5\n",
            "(2, 0) 6\n",
            "(2, 1) 7\n",
            "(2, 2) 8\n",
            "(0, 0) 0\n",
            "(0, 1) 1\n",
            "(0, 2) 2\n",
            "(1, 0) 3\n",
            "(1, 1) 4\n",
            "(1, 2) 5\n",
            "(2, 0) 6\n",
            "(2, 1) 7\n",
            "(2, 2) 8\n"
          ],
          "name": "stdout"
        }
      ]
    },
    {
      "cell_type": "code",
      "metadata": {
        "id": "WubxtnCWdZ9B",
        "colab_type": "code",
        "outputId": "ca9098c9-0435-46c1-d50c-2bdecf52650d",
        "colab": {
          "base_uri": "https://localhost:8080/",
          "height": 357
        }
      },
      "source": [
        "#Question 56\n",
        "X, Y = np.meshgrid(np.linspace(-1,1,10), np.linspace(-1,1,10))\n",
        "D = np.sqrt(X*X+Y*Y)\n",
        "sigma, mu = 1.0, 0.0\n",
        "G = np.exp(-( (D-mu)**2 / ( 2.0 * sigma**2 ) ) )\n",
        "print(G)"
      ],
      "execution_count": 108,
      "outputs": [
        {
          "output_type": "stream",
          "text": [
            "[[0.36787944 0.44822088 0.51979489 0.57375342 0.60279818 0.60279818\n",
            "  0.57375342 0.51979489 0.44822088 0.36787944]\n",
            " [0.44822088 0.54610814 0.63331324 0.69905581 0.73444367 0.73444367\n",
            "  0.69905581 0.63331324 0.54610814 0.44822088]\n",
            " [0.51979489 0.63331324 0.73444367 0.81068432 0.85172308 0.85172308\n",
            "  0.81068432 0.73444367 0.63331324 0.51979489]\n",
            " [0.57375342 0.69905581 0.81068432 0.89483932 0.9401382  0.9401382\n",
            "  0.89483932 0.81068432 0.69905581 0.57375342]\n",
            " [0.60279818 0.73444367 0.85172308 0.9401382  0.98773022 0.98773022\n",
            "  0.9401382  0.85172308 0.73444367 0.60279818]\n",
            " [0.60279818 0.73444367 0.85172308 0.9401382  0.98773022 0.98773022\n",
            "  0.9401382  0.85172308 0.73444367 0.60279818]\n",
            " [0.57375342 0.69905581 0.81068432 0.89483932 0.9401382  0.9401382\n",
            "  0.89483932 0.81068432 0.69905581 0.57375342]\n",
            " [0.51979489 0.63331324 0.73444367 0.81068432 0.85172308 0.85172308\n",
            "  0.81068432 0.73444367 0.63331324 0.51979489]\n",
            " [0.44822088 0.54610814 0.63331324 0.69905581 0.73444367 0.73444367\n",
            "  0.69905581 0.63331324 0.54610814 0.44822088]\n",
            " [0.36787944 0.44822088 0.51979489 0.57375342 0.60279818 0.60279818\n",
            "  0.57375342 0.51979489 0.44822088 0.36787944]]\n"
          ],
          "name": "stdout"
        }
      ]
    },
    {
      "cell_type": "code",
      "metadata": {
        "id": "_Wiqyh_VhYvs",
        "colab_type": "code",
        "outputId": "2f505cfb-3dbc-4fd2-b9ad-b99bd3811f10",
        "colab": {
          "base_uri": "https://localhost:8080/",
          "height": 187
        }
      },
      "source": [
        "#Question 57\n",
        "n = 10\n",
        "p = 3\n",
        "Z = np.zeros((n,n))\n",
        "np.put(Z, np.random.choice(range(n*n), p, replace=False),1)\n",
        "print(Z)"
      ],
      "execution_count": 109,
      "outputs": [
        {
          "output_type": "stream",
          "text": [
            "[[0. 0. 0. 0. 0. 0. 0. 0. 0. 0.]\n",
            " [0. 0. 0. 0. 0. 0. 0. 0. 0. 0.]\n",
            " [0. 0. 0. 0. 0. 0. 0. 0. 0. 0.]\n",
            " [0. 1. 0. 0. 0. 0. 0. 0. 0. 0.]\n",
            " [0. 0. 0. 0. 0. 0. 0. 1. 0. 0.]\n",
            " [0. 0. 0. 0. 0. 0. 0. 0. 0. 0.]\n",
            " [0. 0. 0. 0. 0. 0. 0. 0. 0. 0.]\n",
            " [0. 0. 0. 0. 0. 0. 0. 0. 0. 1.]\n",
            " [0. 0. 0. 0. 0. 0. 0. 0. 0. 0.]\n",
            " [0. 0. 0. 0. 0. 0. 0. 0. 0. 0.]]\n"
          ],
          "name": "stdout"
        }
      ]
    },
    {
      "cell_type": "code",
      "metadata": {
        "id": "M7zX7wM1dyua",
        "colab_type": "code",
        "outputId": "e70d69d2-0fca-491e-e379-5afbbb5ef614",
        "colab": {
          "base_uri": "https://localhost:8080/",
          "height": 187
        }
      },
      "source": [
        "#Question 58\n",
        "x = np.random.random((5,10))\n",
        "\n",
        "x = x - x.mean(axis=1,keepdims=True)\n",
        "print(x)"
      ],
      "execution_count": 110,
      "outputs": [
        {
          "output_type": "stream",
          "text": [
            "[[-0.11114705 -0.19735432  0.25984879 -0.01368105  0.21275396 -0.18667139\n",
            "   0.25671698 -0.13005859 -0.20034345  0.10993612]\n",
            " [-0.24099267 -0.10893098 -0.56329635  0.31799932  0.18773239  0.40941247\n",
            "   0.08515895 -0.40894623 -0.08391541  0.40577851]\n",
            " [ 0.42811517  0.06700334  0.18007851 -0.03915899  0.1562178   0.12953999\n",
            "   0.05160426 -0.42993177 -0.35498879 -0.18847951]\n",
            " [ 0.29130436  0.15263725  0.11934487 -0.01308646 -0.45006617 -0.11620508\n",
            "  -0.39370788 -0.03484949  0.18813086  0.25649776]\n",
            " [ 0.2250792   0.35229065 -0.03344866  0.31707285  0.11748461 -0.16910129\n",
            "  -0.32433333 -0.14747022  0.06602328 -0.40359708]]\n"
          ],
          "name": "stdout"
        }
      ]
    },
    {
      "cell_type": "code",
      "metadata": {
        "id": "XD98mRZYhNAh",
        "colab_type": "code",
        "colab": {
          "base_uri": "https://localhost:8080/",
          "height": 153
        },
        "outputId": "2d9f23e3-c2ee-410a-8275-7990a2988017"
      },
      "source": [
        "#Question 59\n",
        "a = np.random.randint(0,12,(4,3))\n",
        "print(a)\n",
        "print(a[a[:,1].argsort()])"
      ],
      "execution_count": 111,
      "outputs": [
        {
          "output_type": "stream",
          "text": [
            "[[ 0  7  5]\n",
            " [10  0  4]\n",
            " [ 6  6 11]\n",
            " [ 6  0  8]]\n",
            "[[10  0  4]\n",
            " [ 6  0  8]\n",
            " [ 6  6 11]\n",
            " [ 0  7  5]]\n"
          ],
          "name": "stdout"
        }
      ]
    },
    {
      "cell_type": "code",
      "metadata": {
        "id": "JuHWbxxJE3GW",
        "colab_type": "code",
        "colab": {
          "base_uri": "https://localhost:8080/",
          "height": 34
        },
        "outputId": "28e840a2-7001-4260-e548-9aa0d8174942"
      },
      "source": [
        "#Question 60\n",
        "b = np.random.randint(0,3,(3,10))\n",
        "print((~b.any(axis=0)).any())"
      ],
      "execution_count": 112,
      "outputs": [
        {
          "output_type": "stream",
          "text": [
            "False\n"
          ],
          "name": "stdout"
        }
      ]
    },
    {
      "cell_type": "code",
      "metadata": {
        "id": "kvO32LDVFS4b",
        "colab_type": "code",
        "colab": {
          "base_uri": "https://localhost:8080/",
          "height": 34
        },
        "outputId": "26f895e1-f970-485b-ed95-8441212347e7"
      },
      "source": [
        "#Question 61\n",
        "c = np.random.uniform(0,1,10)\n",
        "z = 0.5\n",
        "m = c.flat[np.abs(c - z).argmin()]\n",
        "print(m)"
      ],
      "execution_count": 113,
      "outputs": [
        {
          "output_type": "stream",
          "text": [
            "0.4896109363948091\n"
          ],
          "name": "stdout"
        }
      ]
    },
    {
      "cell_type": "code",
      "metadata": {
        "id": "FYij-GrQFaOv",
        "colab_type": "code",
        "colab": {
          "base_uri": "https://localhost:8080/",
          "height": 68
        },
        "outputId": "71a894d7-ab7a-47b4-ec79-6264fa9a01ff"
      },
      "source": [
        "#Question 62\n",
        "A = np.arange(3).reshape(3,1)\n",
        "B = np.arange(3).reshape(1,3)\n",
        "it = np.nditer([A,B,None])\n",
        "for x,y,z in it: z[...] = x + y\n",
        "print(it.operands[2])"
      ],
      "execution_count": 114,
      "outputs": [
        {
          "output_type": "stream",
          "text": [
            "[[0 1 2]\n",
            " [1 2 3]\n",
            " [2 3 4]]\n"
          ],
          "name": "stdout"
        }
      ]
    },
    {
      "cell_type": "code",
      "metadata": {
        "id": "buda_u5UFd3L",
        "colab_type": "code",
        "colab": {
          "base_uri": "https://localhost:8080/",
          "height": 34
        },
        "outputId": "b26e4f9b-f559-4798-8032-9981756579a6"
      },
      "source": [
        "#Question 63\n",
        "class NamedArray(np.ndarray):\n",
        "    def __new__(cls, array, name=\"no name\"):\n",
        "        obj = np.asarray(array).view(cls)\n",
        "        obj.name = name\n",
        "        return obj\n",
        "    def __array_finalize__(self, obj):\n",
        "        if obj is None: return\n",
        "        self.info = getattr(obj, 'name', \"no name\")\n",
        "\n",
        "Z = NamedArray(np.arange(10), \"range_10\")\n",
        "print (Z.name)"
      ],
      "execution_count": 115,
      "outputs": [
        {
          "output_type": "stream",
          "text": [
            "range_10\n"
          ],
          "name": "stdout"
        }
      ]
    },
    {
      "cell_type": "code",
      "metadata": {
        "id": "skIFUNfoFgzj",
        "colab_type": "code",
        "colab": {
          "base_uri": "https://localhost:8080/",
          "height": 34
        },
        "outputId": "e9c5f8f9-a8a8-4aa6-d955-6b47df1c021c"
      },
      "source": [
        "#Question 64\n",
        "d = np.ones(10)\n",
        "I = np.random.randint(0,len(d),20)\n",
        "d += np.bincount(I, minlength=len(d))\n",
        "print(d)\n"
      ],
      "execution_count": 116,
      "outputs": [
        {
          "output_type": "stream",
          "text": [
            "[2. 2. 2. 5. 6. 2. 2. 3. 3. 3.]\n"
          ],
          "name": "stdout"
        }
      ]
    },
    {
      "cell_type": "code",
      "metadata": {
        "id": "FHK2yGzhF5x4",
        "colab_type": "code",
        "colab": {
          "base_uri": "https://localhost:8080/",
          "height": 34
        },
        "outputId": "a33e5702-127c-43d7-b029-fd8b9907ec96"
      },
      "source": [
        "#Question 65\n",
        "e = [1,2,3,4,5,6]\n",
        "I = [1,3,9,3,4,1]\n",
        "f = np.bincount(I,e)\n",
        "print(f)"
      ],
      "execution_count": 117,
      "outputs": [
        {
          "output_type": "stream",
          "text": [
            "[0. 7. 0. 6. 5. 0. 0. 0. 0. 3.]\n"
          ],
          "name": "stdout"
        }
      ]
    },
    {
      "cell_type": "code",
      "metadata": {
        "id": "t4z5Q4rnGFw1",
        "colab_type": "code",
        "colab": {
          "base_uri": "https://localhost:8080/",
          "height": 34
        },
        "outputId": "d85465c9-7f2b-4fdf-fadd-d19651f70f3d"
      },
      "source": [
        "#Question 66\n",
        "w,h = 16,16\n",
        "I = np.random.randint(0,2,(h,w,3)).astype(np.ubyte)\n",
        "F = I[...,0]*256*256 + I[...,1]*256 +I[...,2]\n",
        "n = len(np.unique(F))\n",
        "print(np.unique(I))"
      ],
      "execution_count": 118,
      "outputs": [
        {
          "output_type": "stream",
          "text": [
            "[0 1]\n"
          ],
          "name": "stdout"
        }
      ]
    },
    {
      "cell_type": "code",
      "metadata": {
        "id": "ezWhqiPMHWaL",
        "colab_type": "code",
        "colab": {
          "base_uri": "https://localhost:8080/",
          "height": 119
        },
        "outputId": "b06cda9d-fd3b-442a-bd14-dabc89d9afb0"
      },
      "source": [
        "#Question 67\n",
        "A = np.random.randint(0,10,(3,4,3,4))\n",
        "sum = A.sum(axis=(-2,-1))\n",
        "print(sum)\n",
        "sum = A.reshape(A.shape[:-2] + (-1,)).sum(axis=-1)\n",
        "print(sum)"
      ],
      "execution_count": 119,
      "outputs": [
        {
          "output_type": "stream",
          "text": [
            "[[50 45 56 61]\n",
            " [44 67 55 64]\n",
            " [62 67 72 43]]\n",
            "[[50 45 56 61]\n",
            " [44 67 55 64]\n",
            " [62 67 72 43]]\n"
          ],
          "name": "stdout"
        }
      ]
    },
    {
      "cell_type": "code",
      "metadata": {
        "id": "dImS1b1oHaEY",
        "colab_type": "code",
        "colab": {
          "base_uri": "https://localhost:8080/",
          "height": 238
        },
        "outputId": "f50f8bea-98b8-4e81-9ed0-790e3cc1494b"
      },
      "source": [
        "#Question 68\n",
        "D = np.random.uniform(0,1,100)\n",
        "S = np.random.randint(0,10,100)\n",
        "D_sums = np.bincount(S, weights=D)\n",
        "D_counts = np.bincount(S)\n",
        "D_means = D_sums / D_counts\n",
        "print(D_means)\n",
        "\n",
        "import pandas as pd\n",
        "print(pd.Series(D).groupby(S).mean())"
      ],
      "execution_count": 120,
      "outputs": [
        {
          "output_type": "stream",
          "text": [
            "[0.47458116 0.25331452 0.44365201 0.60276954 0.47452921 0.55772457\n",
            " 0.50862139 0.50210328 0.57197122 0.41061372]\n",
            "0    0.474581\n",
            "1    0.253315\n",
            "2    0.443652\n",
            "3    0.602770\n",
            "4    0.474529\n",
            "5    0.557725\n",
            "6    0.508621\n",
            "7    0.502103\n",
            "8    0.571971\n",
            "9    0.410614\n",
            "dtype: float64\n"
          ],
          "name": "stdout"
        }
      ]
    },
    {
      "cell_type": "code",
      "metadata": {
        "id": "UvSTqzVZHc13",
        "colab_type": "code",
        "colab": {
          "base_uri": "https://localhost:8080/",
          "height": 34
        },
        "outputId": "5db5c308-e43a-4086-8816-d1725e2a2c68"
      },
      "source": [
        "#Question 69\n",
        "A = np.random.uniform(0,1,(5,5))\n",
        "B = np.random.uniform(0,1,(5,5))\n",
        "  \n",
        "np.diag(np.dot(A, B))"
      ],
      "execution_count": 121,
      "outputs": [
        {
          "output_type": "execute_result",
          "data": {
            "text/plain": [
              "array([0.77650527, 1.7229372 , 2.11262369, 1.74780986, 0.74919112])"
            ]
          },
          "metadata": {
            "tags": []
          },
          "execution_count": 121
        }
      ]
    },
    {
      "cell_type": "code",
      "metadata": {
        "id": "uSyKqM-IHhrn",
        "colab_type": "code",
        "colab": {
          "base_uri": "https://localhost:8080/",
          "height": 34
        },
        "outputId": "5338642a-749b-4bf5-8423-842e3cdd1196"
      },
      "source": [
        "#Question 70\n",
        "Z = np.array([1,2,3,4,5])\n",
        "nz = 3\n",
        "Z0 = np.zeros(len(Z) + (len(Z)-1)*(nz))\n",
        "Z0[::nz+1] = Z\n",
        "print(Z0)"
      ],
      "execution_count": 122,
      "outputs": [
        {
          "output_type": "stream",
          "text": [
            "[1. 0. 0. 0. 2. 0. 0. 0. 3. 0. 0. 0. 4. 0. 0. 0. 5.]\n"
          ],
          "name": "stdout"
        }
      ]
    },
    {
      "cell_type": "code",
      "metadata": {
        "id": "GY-nbIQeHkpd",
        "colab_type": "code",
        "colab": {
          "base_uri": "https://localhost:8080/",
          "height": 510
        },
        "outputId": "be09c20e-7898-444b-8243-41d6edd24d2a"
      },
      "source": [
        "#Question 71\n",
        "A = np.ones((5,5,3))\n",
        "B = 2*np.ones((5,5))\n",
        "print(A * B[:,:,None])"
      ],
      "execution_count": 123,
      "outputs": [
        {
          "output_type": "stream",
          "text": [
            "[[[2. 2. 2.]\n",
            "  [2. 2. 2.]\n",
            "  [2. 2. 2.]\n",
            "  [2. 2. 2.]\n",
            "  [2. 2. 2.]]\n",
            "\n",
            " [[2. 2. 2.]\n",
            "  [2. 2. 2.]\n",
            "  [2. 2. 2.]\n",
            "  [2. 2. 2.]\n",
            "  [2. 2. 2.]]\n",
            "\n",
            " [[2. 2. 2.]\n",
            "  [2. 2. 2.]\n",
            "  [2. 2. 2.]\n",
            "  [2. 2. 2.]\n",
            "  [2. 2. 2.]]\n",
            "\n",
            " [[2. 2. 2.]\n",
            "  [2. 2. 2.]\n",
            "  [2. 2. 2.]\n",
            "  [2. 2. 2.]\n",
            "  [2. 2. 2.]]\n",
            "\n",
            " [[2. 2. 2.]\n",
            "  [2. 2. 2.]\n",
            "  [2. 2. 2.]\n",
            "  [2. 2. 2.]\n",
            "  [2. 2. 2.]]]\n"
          ],
          "name": "stdout"
        }
      ]
    },
    {
      "cell_type": "code",
      "metadata": {
        "id": "S8n5vOFbHoqZ",
        "colab_type": "code",
        "colab": {
          "base_uri": "https://localhost:8080/",
          "height": 102
        },
        "outputId": "cd6ccd69-8141-4ad4-8000-44c17a21343b"
      },
      "source": [
        "#Question 72\n",
        "A = np.arange(25).reshape(5,5)\n",
        "A[[0,1]] = A[[1,0]]\n",
        "print(A)"
      ],
      "execution_count": 124,
      "outputs": [
        {
          "output_type": "stream",
          "text": [
            "[[ 5  6  7  8  9]\n",
            " [ 0  1  2  3  4]\n",
            " [10 11 12 13 14]\n",
            " [15 16 17 18 19]\n",
            " [20 21 22 23 24]]\n"
          ],
          "name": "stdout"
        }
      ]
    },
    {
      "cell_type": "code",
      "metadata": {
        "id": "XCTx-yg5HsNO",
        "colab_type": "code",
        "colab": {
          "base_uri": "https://localhost:8080/",
          "height": 85
        },
        "outputId": "8f84aa7c-25ec-4d4a-fbf5-19eb30b12667"
      },
      "source": [
        "#Question 73\n",
        "faces = np.random.randint(0,100,(10,3))\n",
        "F = np.roll(faces.repeat(2,axis=1),-1,axis=1)\n",
        "F = F.reshape(len(F)*3,2)\n",
        "F = np.sort(F,axis=1)\n",
        "G = F.view( dtype=[('p0',F.dtype),('p1',F.dtype)] )\n",
        "G = np.unique(G)\n",
        "print(G)"
      ],
      "execution_count": 125,
      "outputs": [
        {
          "output_type": "stream",
          "text": [
            "[( 2, 83) ( 2, 84) (13, 31) (13, 92) (20, 26) (22, 33) (22, 66) (26, 26)\n",
            " (29, 54) (29, 69) (31, 81) (31, 82) (31, 92) (33, 66) (38, 48) (38, 50)\n",
            " (44, 47) (44, 66) (44, 69) (44, 73) (47, 73) (48, 50) (50, 52) (50, 98)\n",
            " (52, 98) (54, 69) (66, 69) (81, 82) (83, 84)]\n"
          ],
          "name": "stdout"
        }
      ]
    },
    {
      "cell_type": "code",
      "metadata": {
        "id": "8_NZlm-JHwG5",
        "colab_type": "code",
        "colab": {
          "base_uri": "https://localhost:8080/",
          "height": 34
        },
        "outputId": "c24dcc11-5dbd-4b53-c753-968458e07853"
      },
      "source": [
        "#Question 74\n",
        "C = np.bincount([1,1,2,3,4,4,6])\n",
        "A = np.repeat(np.arange(len(C)), C)\n",
        "print(A)"
      ],
      "execution_count": 126,
      "outputs": [
        {
          "output_type": "stream",
          "text": [
            "[1 1 2 3 4 4 6]\n"
          ],
          "name": "stdout"
        }
      ]
    },
    {
      "cell_type": "code",
      "metadata": {
        "id": "U0P9HgT4Hy-q",
        "colab_type": "code",
        "colab": {
          "base_uri": "https://localhost:8080/",
          "height": 34
        },
        "outputId": "f2d013c3-91ad-4251-bb32-75501f0cee54"
      },
      "source": [
        "#Question 75\n",
        "def moving_average(a, n=3) :\n",
        "    ret = np.cumsum(a, dtype=float)\n",
        "    ret[n:] = ret[n:] - ret[:-n]\n",
        "    return ret[n - 1:] / n\n",
        "Z = np.arange(20)\n",
        "print(moving_average(Z, n=3))\n"
      ],
      "execution_count": 127,
      "outputs": [
        {
          "output_type": "stream",
          "text": [
            "[ 1.  2.  3.  4.  5.  6.  7.  8.  9. 10. 11. 12. 13. 14. 15. 16. 17. 18.]\n"
          ],
          "name": "stdout"
        }
      ]
    },
    {
      "cell_type": "code",
      "metadata": {
        "id": "HPJXOcvWH2wv",
        "colab_type": "code",
        "colab": {
          "base_uri": "https://localhost:8080/",
          "height": 153
        },
        "outputId": "a029ffb2-4cac-4c3e-9f40-c9ecd9c1ef33"
      },
      "source": [
        "#Question 76\n",
        "from numpy.lib import stride_tricks\n",
        "\n",
        "def rolling(a, window):\n",
        "    shape = (a.size - window + 1, window)\n",
        "    strides = (a.itemsize, a.itemsize)\n",
        "    return stride_tricks.as_strided(a, shape=shape, strides=strides)\n",
        "Z = rolling(np.arange(10), 3)\n",
        "print(Z)"
      ],
      "execution_count": 128,
      "outputs": [
        {
          "output_type": "stream",
          "text": [
            "[[0 1 2]\n",
            " [1 2 3]\n",
            " [2 3 4]\n",
            " [3 4 5]\n",
            " [4 5 6]\n",
            " [5 6 7]\n",
            " [6 7 8]\n",
            " [7 8 9]]\n"
          ],
          "name": "stdout"
        }
      ]
    },
    {
      "cell_type": "code",
      "metadata": {
        "id": "zWsVSjNtH6Ym",
        "colab_type": "code",
        "colab": {
          "base_uri": "https://localhost:8080/",
          "height": 357
        },
        "outputId": "c40865c9-f7dc-4b0e-d64a-ae6c21690a66"
      },
      "source": [
        "#Question 77\n",
        "Z = np.random.uniform(-1.0,1.0,100)\n",
        "np.negative(Z, out=Z)"
      ],
      "execution_count": 129,
      "outputs": [
        {
          "output_type": "execute_result",
          "data": {
            "text/plain": [
              "array([ 0.80311739, -0.78650935,  0.21641815,  0.84126567, -0.07164067,\n",
              "        0.58749393, -0.08864386, -0.96189487,  0.95659285, -0.12452558,\n",
              "        0.34199085,  0.31754199,  0.50436062,  0.90875843,  0.63758121,\n",
              "       -0.21519501,  0.50969557, -0.38843526,  0.60297041, -0.58270857,\n",
              "        0.34467995, -0.48006467, -0.78296148,  0.42986452,  0.61134724,\n",
              "        0.20878102,  0.85750229,  0.32747292, -0.72376131,  0.15184202,\n",
              "       -0.47770439,  0.45671118, -0.86074545,  0.07211125,  0.89513675,\n",
              "       -0.95463567,  0.93951049,  0.36641252, -0.744626  ,  0.78372809,\n",
              "       -0.93984506,  0.68031568, -0.76176455, -0.85150388,  0.28784237,\n",
              "        0.31188413,  0.32885582, -0.06680336, -0.91065893,  0.66936208,\n",
              "       -0.08678462, -0.34487999,  0.97618272,  0.89836969, -0.46173616,\n",
              "        0.82520117,  0.18565449,  0.59218044, -0.92395793, -0.16108096,\n",
              "        0.07041484, -0.97739099, -0.70939665, -0.56438381,  0.04608823,\n",
              "        0.48416573, -0.5571103 , -0.9025389 ,  0.21451987, -0.49217342,\n",
              "       -0.86587737, -0.20216637,  0.53406471, -0.12850805, -0.32470169,\n",
              "       -0.36343812, -0.62526397, -0.44773555, -0.77976185,  0.40263241,\n",
              "       -0.72003469, -0.68823837,  0.90329463,  0.72458064, -0.88504136,\n",
              "       -0.54262448, -0.37099037,  0.41247132, -0.44545993, -0.20496886,\n",
              "        0.19850803, -0.7618844 , -0.23339928, -0.85420284,  0.38260733,\n",
              "       -0.34575601, -0.73791792,  0.75253874, -0.53732746, -0.64358184])"
            ]
          },
          "metadata": {
            "tags": []
          },
          "execution_count": 129
        }
      ]
    },
    {
      "cell_type": "code",
      "metadata": {
        "id": "p6koA8urIBPL",
        "colab_type": "code",
        "colab": {
          "base_uri": "https://localhost:8080/",
          "height": 51
        },
        "outputId": "b4e9b688-fdc7-468b-a629-01f286e62c69"
      },
      "source": [
        "#Question 78\n",
        "def distance(P0, P1, p):\n",
        "    T = P1 - P0\n",
        "    L = (T**2).sum(axis=1)\n",
        "    U = -((P0[:,0]-p[...,0])*T[:,0] + (P0[:,1]-p[...,1])*T[:,1]) / L\n",
        "    U = U.reshape(len(U),1)\n",
        "    D = P0 + U*T - p\n",
        "    return np.sqrt((D**2).sum(axis=1))\n",
        "\n",
        "P0 = np.random.uniform(-10,10,(10,2))\n",
        "P1 = np.random.uniform(-10,10,(10,2))\n",
        "p  = np.random.uniform(-10,10,( 1,2))\n",
        "print(distance(P0, P1, p))"
      ],
      "execution_count": 130,
      "outputs": [
        {
          "output_type": "stream",
          "text": [
            "[11.50131217  3.61959891  0.83671731  0.14850842  1.35664338  6.95743981\n",
            "  4.19687884  9.69877517  1.21526596  4.30157885]\n"
          ],
          "name": "stdout"
        }
      ]
    },
    {
      "cell_type": "code",
      "metadata": {
        "id": "u6rTeusNIEKM",
        "colab_type": "code",
        "colab": {
          "base_uri": "https://localhost:8080/",
          "height": 357
        },
        "outputId": "11c3309a-fd24-4592-d865-12558a0068ca"
      },
      "source": [
        "#Question 79\n",
        "P0 = np.random.uniform(-10, 10, (10,2))\n",
        "P1 = np.random.uniform(-10,10,(10,2))\n",
        "p = np.random.uniform(-10, 10, (10,2))\n",
        "print(np.array([distance(P0,P1,p_i) for p_i in p]))"
      ],
      "execution_count": 131,
      "outputs": [
        {
          "output_type": "stream",
          "text": [
            "[[12.07892231 12.67971458  4.10575459  2.61265703 13.69891278  3.68377805\n",
            "   6.86458648  7.98326776  9.68100402  4.06695091]\n",
            " [ 7.10773637  7.43047846 12.689106   13.74241672  5.3217355   9.22709533\n",
            "   4.43379196  3.05841669  1.09139866  5.98562358]\n",
            " [ 6.685356    7.38660941  0.51799328  2.02690528 10.03465372  2.21488922\n",
            "   0.78831815  2.57350765  6.17399994  1.97380911]\n",
            " [ 0.26257331  0.70251794  7.17777005 13.32319178  0.53240419  2.04590776\n",
            "   3.18976233  3.80559672  3.50828226  8.86776284]\n",
            " [ 3.01317057  3.63161598  1.57414768  6.3888005   5.50013023  1.75159175\n",
            "   2.05561188  1.08471165  1.60075227  2.76526808]\n",
            " [15.76980255 16.45805698  1.85627838  1.90470642 18.31361753  3.09273464\n",
            "   9.68679895 11.6594112  14.33871108  8.92291947]\n",
            " [ 9.13205396  9.81942723  0.48116405  1.29479641 12.12440088  0.47792171\n",
            "   3.27368949  5.0223135   8.22296825  3.61792239]\n",
            " [ 0.87939064  0.11090201  4.45005008  3.52473304  3.90160811  8.30574956\n",
            "   7.10397938  5.0017759   0.19048438  2.57646587]\n",
            " [ 9.76687266 10.27736141  6.74569069  6.56062429 10.32906879  5.10613397\n",
            "   5.40040501  5.68631957  6.24997925  0.24668091]\n",
            " [13.49005827 13.92046512 10.30944714  7.30290964 12.7137205   9.49596177\n",
            "   9.68664974  9.42245781  8.51572865  1.45633587]]\n"
          ],
          "name": "stdout"
        }
      ]
    },
    {
      "cell_type": "code",
      "metadata": {
        "id": "ay0NTP1VIKph",
        "colab_type": "code",
        "colab": {
          "base_uri": "https://localhost:8080/",
          "height": 204
        },
        "outputId": "788a8ea9-59f5-4153-e4ea-a4ecc0161a16"
      },
      "source": [
        "#Question 81\n",
        "Z = np.arange(1,15,dtype=np.uint32)\n",
        "R = stride_tricks.as_strided(Z,(11,4),(4,4))\n",
        "print(R)"
      ],
      "execution_count": 134,
      "outputs": [
        {
          "output_type": "stream",
          "text": [
            "[[ 1  2  3  4]\n",
            " [ 2  3  4  5]\n",
            " [ 3  4  5  6]\n",
            " [ 4  5  6  7]\n",
            " [ 5  6  7  8]\n",
            " [ 6  7  8  9]\n",
            " [ 7  8  9 10]\n",
            " [ 8  9 10 11]\n",
            " [ 9 10 11 12]\n",
            " [10 11 12 13]\n",
            " [11 12 13 14]]\n"
          ],
          "name": "stdout"
        }
      ]
    },
    {
      "cell_type": "code",
      "metadata": {
        "id": "YK2oGC6SILme",
        "colab_type": "code",
        "colab": {
          "base_uri": "https://localhost:8080/",
          "height": 34
        },
        "outputId": "1a80dcdc-e9f2-4cb3-dd77-027ea931f77f"
      },
      "source": [
        "#Question 82\n",
        "Z = np.random.uniform(0,1,(10,10))\n",
        "U, S, V = np.linalg.svd(Z) # Singular Value Decomposition\n",
        "rank = np.sum(S > 1e-10)\n",
        "print(rank)"
      ],
      "execution_count": 135,
      "outputs": [
        {
          "output_type": "stream",
          "text": [
            "10\n"
          ],
          "name": "stdout"
        }
      ]
    },
    {
      "cell_type": "code",
      "metadata": {
        "id": "3S91OrlRIPWw",
        "colab_type": "code",
        "colab": {
          "base_uri": "https://localhost:8080/",
          "height": 34
        },
        "outputId": "f98ceb1e-46dd-4f8e-acb3-5cbfe9443e9d"
      },
      "source": [
        "#Question 83\n",
        "Z = np.random.randint(0,10,50)\n",
        "print(np.bincount(Z).argmax())"
      ],
      "execution_count": 136,
      "outputs": [
        {
          "output_type": "stream",
          "text": [
            "1\n"
          ],
          "name": "stdout"
        }
      ]
    },
    {
      "cell_type": "code",
      "metadata": {
        "id": "au0xVB-AITh3",
        "colab_type": "code",
        "colab": {
          "base_uri": "https://localhost:8080/",
          "height": 1000
        },
        "outputId": "38cb3609-1e83-4f79-b149-45361c4fad7b"
      },
      "source": [
        "#Question 84\n",
        "Z = np.random.randint(0,5,(10,10))\n",
        "n = 3\n",
        "i = 1 + (Z.shape[0]-3)\n",
        "j = 1 + (Z.shape[1]-3)\n",
        "C = stride_tricks.as_strided(Z, shape=(i, j, n, n), strides=Z.strides + Z.strides)\n",
        "print(C)"
      ],
      "execution_count": 137,
      "outputs": [
        {
          "output_type": "stream",
          "text": [
            "[[[[3 0 0]\n",
            "   [1 0 2]\n",
            "   [1 2 3]]\n",
            "\n",
            "  [[0 0 1]\n",
            "   [0 2 4]\n",
            "   [2 3 0]]\n",
            "\n",
            "  [[0 1 1]\n",
            "   [2 4 3]\n",
            "   [3 0 1]]\n",
            "\n",
            "  [[1 1 2]\n",
            "   [4 3 0]\n",
            "   [0 1 4]]\n",
            "\n",
            "  [[1 2 0]\n",
            "   [3 0 3]\n",
            "   [1 4 3]]\n",
            "\n",
            "  [[2 0 3]\n",
            "   [0 3 3]\n",
            "   [4 3 2]]\n",
            "\n",
            "  [[0 3 0]\n",
            "   [3 3 2]\n",
            "   [3 2 0]]\n",
            "\n",
            "  [[3 0 3]\n",
            "   [3 2 4]\n",
            "   [2 0 4]]]\n",
            "\n",
            "\n",
            " [[[1 0 2]\n",
            "   [1 2 3]\n",
            "   [1 2 4]]\n",
            "\n",
            "  [[0 2 4]\n",
            "   [2 3 0]\n",
            "   [2 4 4]]\n",
            "\n",
            "  [[2 4 3]\n",
            "   [3 0 1]\n",
            "   [4 4 4]]\n",
            "\n",
            "  [[4 3 0]\n",
            "   [0 1 4]\n",
            "   [4 4 2]]\n",
            "\n",
            "  [[3 0 3]\n",
            "   [1 4 3]\n",
            "   [4 2 2]]\n",
            "\n",
            "  [[0 3 3]\n",
            "   [4 3 2]\n",
            "   [2 2 4]]\n",
            "\n",
            "  [[3 3 2]\n",
            "   [3 2 0]\n",
            "   [2 4 3]]\n",
            "\n",
            "  [[3 2 4]\n",
            "   [2 0 4]\n",
            "   [4 3 1]]]\n",
            "\n",
            "\n",
            " [[[1 2 3]\n",
            "   [1 2 4]\n",
            "   [0 2 1]]\n",
            "\n",
            "  [[2 3 0]\n",
            "   [2 4 4]\n",
            "   [2 1 0]]\n",
            "\n",
            "  [[3 0 1]\n",
            "   [4 4 4]\n",
            "   [1 0 3]]\n",
            "\n",
            "  [[0 1 4]\n",
            "   [4 4 2]\n",
            "   [0 3 2]]\n",
            "\n",
            "  [[1 4 3]\n",
            "   [4 2 2]\n",
            "   [3 2 4]]\n",
            "\n",
            "  [[4 3 2]\n",
            "   [2 2 4]\n",
            "   [2 4 3]]\n",
            "\n",
            "  [[3 2 0]\n",
            "   [2 4 3]\n",
            "   [4 3 0]]\n",
            "\n",
            "  [[2 0 4]\n",
            "   [4 3 1]\n",
            "   [3 0 1]]]\n",
            "\n",
            "\n",
            " [[[1 2 4]\n",
            "   [0 2 1]\n",
            "   [0 1 2]]\n",
            "\n",
            "  [[2 4 4]\n",
            "   [2 1 0]\n",
            "   [1 2 4]]\n",
            "\n",
            "  [[4 4 4]\n",
            "   [1 0 3]\n",
            "   [2 4 4]]\n",
            "\n",
            "  [[4 4 2]\n",
            "   [0 3 2]\n",
            "   [4 4 1]]\n",
            "\n",
            "  [[4 2 2]\n",
            "   [3 2 4]\n",
            "   [4 1 2]]\n",
            "\n",
            "  [[2 2 4]\n",
            "   [2 4 3]\n",
            "   [1 2 3]]\n",
            "\n",
            "  [[2 4 3]\n",
            "   [4 3 0]\n",
            "   [2 3 3]]\n",
            "\n",
            "  [[4 3 1]\n",
            "   [3 0 1]\n",
            "   [3 3 1]]]\n",
            "\n",
            "\n",
            " [[[0 2 1]\n",
            "   [0 1 2]\n",
            "   [2 2 3]]\n",
            "\n",
            "  [[2 1 0]\n",
            "   [1 2 4]\n",
            "   [2 3 4]]\n",
            "\n",
            "  [[1 0 3]\n",
            "   [2 4 4]\n",
            "   [3 4 1]]\n",
            "\n",
            "  [[0 3 2]\n",
            "   [4 4 1]\n",
            "   [4 1 4]]\n",
            "\n",
            "  [[3 2 4]\n",
            "   [4 1 2]\n",
            "   [1 4 1]]\n",
            "\n",
            "  [[2 4 3]\n",
            "   [1 2 3]\n",
            "   [4 1 2]]\n",
            "\n",
            "  [[4 3 0]\n",
            "   [2 3 3]\n",
            "   [1 2 3]]\n",
            "\n",
            "  [[3 0 1]\n",
            "   [3 3 1]\n",
            "   [2 3 4]]]\n",
            "\n",
            "\n",
            " [[[0 1 2]\n",
            "   [2 2 3]\n",
            "   [0 0 3]]\n",
            "\n",
            "  [[1 2 4]\n",
            "   [2 3 4]\n",
            "   [0 3 1]]\n",
            "\n",
            "  [[2 4 4]\n",
            "   [3 4 1]\n",
            "   [3 1 0]]\n",
            "\n",
            "  [[4 4 1]\n",
            "   [4 1 4]\n",
            "   [1 0 3]]\n",
            "\n",
            "  [[4 1 2]\n",
            "   [1 4 1]\n",
            "   [0 3 1]]\n",
            "\n",
            "  [[1 2 3]\n",
            "   [4 1 2]\n",
            "   [3 1 1]]\n",
            "\n",
            "  [[2 3 3]\n",
            "   [1 2 3]\n",
            "   [1 1 0]]\n",
            "\n",
            "  [[3 3 1]\n",
            "   [2 3 4]\n",
            "   [1 0 0]]]\n",
            "\n",
            "\n",
            " [[[2 2 3]\n",
            "   [0 0 3]\n",
            "   [0 4 3]]\n",
            "\n",
            "  [[2 3 4]\n",
            "   [0 3 1]\n",
            "   [4 3 4]]\n",
            "\n",
            "  [[3 4 1]\n",
            "   [3 1 0]\n",
            "   [3 4 0]]\n",
            "\n",
            "  [[4 1 4]\n",
            "   [1 0 3]\n",
            "   [4 0 0]]\n",
            "\n",
            "  [[1 4 1]\n",
            "   [0 3 1]\n",
            "   [0 0 2]]\n",
            "\n",
            "  [[4 1 2]\n",
            "   [3 1 1]\n",
            "   [0 2 2]]\n",
            "\n",
            "  [[1 2 3]\n",
            "   [1 1 0]\n",
            "   [2 2 4]]\n",
            "\n",
            "  [[2 3 4]\n",
            "   [1 0 0]\n",
            "   [2 4 0]]]\n",
            "\n",
            "\n",
            " [[[0 0 3]\n",
            "   [0 4 3]\n",
            "   [3 0 4]]\n",
            "\n",
            "  [[0 3 1]\n",
            "   [4 3 4]\n",
            "   [0 4 3]]\n",
            "\n",
            "  [[3 1 0]\n",
            "   [3 4 0]\n",
            "   [4 3 3]]\n",
            "\n",
            "  [[1 0 3]\n",
            "   [4 0 0]\n",
            "   [3 3 2]]\n",
            "\n",
            "  [[0 3 1]\n",
            "   [0 0 2]\n",
            "   [3 2 4]]\n",
            "\n",
            "  [[3 1 1]\n",
            "   [0 2 2]\n",
            "   [2 4 4]]\n",
            "\n",
            "  [[1 1 0]\n",
            "   [2 2 4]\n",
            "   [4 4 4]]\n",
            "\n",
            "  [[1 0 0]\n",
            "   [2 4 0]\n",
            "   [4 4 2]]]]\n"
          ],
          "name": "stdout"
        }
      ]
    },
    {
      "cell_type": "code",
      "metadata": {
        "id": "wgI2kaciIWrC",
        "colab_type": "code",
        "colab": {
          "base_uri": "https://localhost:8080/",
          "height": 102
        },
        "outputId": "1c1c7661-4199-4d96-abec-19f2ee3c4d18"
      },
      "source": [
        "#Question 85\n",
        "class Symetric(np.ndarray):\n",
        "    def __setitem__(self, index, value):\n",
        "        i,j = index\n",
        "        super(Symetric, self).__setitem__((i,j), value)\n",
        "        super(Symetric, self).__setitem__((j,i), value)\n",
        "\n",
        "def symetric(Z):\n",
        "    return np.asarray(Z + Z.T - np.diag(Z.diagonal())).view(Symetric)\n",
        "\n",
        "S = symetric(np.random.randint(0,10,(5,5)))\n",
        "S[2,3] = 42\n",
        "print(S)"
      ],
      "execution_count": 138,
      "outputs": [
        {
          "output_type": "stream",
          "text": [
            "[[ 7  8 11  3 13]\n",
            " [ 8  1 15 10  1]\n",
            " [11 15  7 42  9]\n",
            " [ 3 10 42  8  4]\n",
            " [13  1  9  4  8]]\n"
          ],
          "name": "stdout"
        }
      ]
    },
    {
      "cell_type": "code",
      "metadata": {
        "id": "UWs8qT-lIdK_",
        "colab_type": "code",
        "colab": {
          "base_uri": "https://localhost:8080/",
          "height": 357
        },
        "outputId": "ac4d1d85-f41a-4fc8-f12c-dd8c6268541d"
      },
      "source": [
        "#Question 86\n",
        "p, n = 10, 20\n",
        "M = np.ones((p,n,n))\n",
        "V = np.ones((p,n,1))\n",
        "S = np.tensordot(M, V, axes=[[0, 2], [0, 1]])\n",
        "print(S)"
      ],
      "execution_count": 139,
      "outputs": [
        {
          "output_type": "stream",
          "text": [
            "[[200.]\n",
            " [200.]\n",
            " [200.]\n",
            " [200.]\n",
            " [200.]\n",
            " [200.]\n",
            " [200.]\n",
            " [200.]\n",
            " [200.]\n",
            " [200.]\n",
            " [200.]\n",
            " [200.]\n",
            " [200.]\n",
            " [200.]\n",
            " [200.]\n",
            " [200.]\n",
            " [200.]\n",
            " [200.]\n",
            " [200.]\n",
            " [200.]]\n"
          ],
          "name": "stdout"
        }
      ]
    },
    {
      "cell_type": "code",
      "metadata": {
        "id": "ZKYUpX40IgWS",
        "colab_type": "code",
        "colab": {
          "base_uri": "https://localhost:8080/",
          "height": 85
        },
        "outputId": "e6ec8363-4af9-4e4d-d5e2-0d0dde9b75d8"
      },
      "source": [
        "#Question 87\n",
        "Z = np.ones((16,16))\n",
        "k = 4\n",
        "S = np.add.reduceat(np.add.reduceat(Z, np.arange(0, Z.shape[0], k), axis=0),\n",
        "                                       np.arange(0, Z.shape[1], k), axis=1)\n",
        "print(S)"
      ],
      "execution_count": 140,
      "outputs": [
        {
          "output_type": "stream",
          "text": [
            "[[16. 16. 16. 16.]\n",
            " [16. 16. 16. 16.]\n",
            " [16. 16. 16. 16.]\n",
            " [16. 16. 16. 16.]]\n"
          ],
          "name": "stdout"
        }
      ]
    },
    {
      "cell_type": "code",
      "metadata": {
        "id": "M1ocQvyBIjzl",
        "colab_type": "code",
        "colab": {
          "base_uri": "https://localhost:8080/",
          "height": 136
        },
        "outputId": "9b8a37ce-5cb3-4ed0-d384-305b7e2d98df"
      },
      "source": [
        "#Question 88\n",
        "def iterate(Z):\n",
        "    # Count neighbours\n",
        "    N = (Z[0:-2,0:-2] + Z[0:-2,1:-1] + Z[0:-2,2:] +\n",
        "         Z[1:-1,0:-2]                + Z[1:-1,2:] +\n",
        "         Z[2:  ,0:-2] + Z[2:  ,1:-1] + Z[2:  ,2:])\n",
        "\n",
        "    # Apply rules\n",
        "    birth = (N==3) & (Z[1:-1,1:-1]==0)\n",
        "    survive = ((N==2) | (N==3)) & (Z[1:-1,1:-1]==1)\n",
        "    Z[...] = 0\n",
        "    Z[1:-1,1:-1][birth | survive] = 1\n",
        "    return Z\n",
        "\n",
        "Z = np.random.randint(0,2,(50,50))\n",
        "for i in range(100): Z = iterate(Z)\n",
        "print(Z)"
      ],
      "execution_count": 141,
      "outputs": [
        {
          "output_type": "stream",
          "text": [
            "[[0 0 0 ... 0 0 0]\n",
            " [0 0 0 ... 0 0 0]\n",
            " [0 0 0 ... 0 0 0]\n",
            " ...\n",
            " [0 0 0 ... 0 0 0]\n",
            " [0 0 0 ... 0 0 0]\n",
            " [0 0 0 ... 0 0 0]]\n"
          ],
          "name": "stdout"
        }
      ]
    },
    {
      "cell_type": "code",
      "metadata": {
        "id": "HvkTCYBMInqf",
        "colab_type": "code",
        "colab": {
          "base_uri": "https://localhost:8080/",
          "height": 34
        },
        "outputId": "d83f656c-e61d-4fe0-9ed4-8a734dd451db"
      },
      "source": [
        "#Question 89\n",
        "Z = np.arange(10000)\n",
        "np.random.shuffle(Z)\n",
        "n = 5\n",
        "\n",
        "# Slow\n",
        "print (Z[np.argsort(Z)[-n:]])"
      ],
      "execution_count": 142,
      "outputs": [
        {
          "output_type": "stream",
          "text": [
            "[9995 9996 9997 9998 9999]\n"
          ],
          "name": "stdout"
        }
      ]
    },
    {
      "cell_type": "code",
      "metadata": {
        "id": "7TWgbKZtIr-r",
        "colab_type": "code",
        "colab": {
          "base_uri": "https://localhost:8080/",
          "height": 221
        },
        "outputId": "1baaa4fb-3964-494a-e25f-53d114945ff8"
      },
      "source": [
        "#Question 90\n",
        "def cartesian(arrays):\n",
        "    arrays = [np.asarray(a) for a in arrays]\n",
        "    shape = (len(x) for x in arrays)\n",
        "\n",
        "    ix = np.indices(shape, dtype=int)\n",
        "    ix = ix.reshape(len(arrays), -1).T\n",
        "\n",
        "    for n, arr in enumerate(arrays):\n",
        "        ix[:, n] = arrays[n][ix[:, n]]\n",
        "\n",
        "    return ix\n",
        "\n",
        "print (cartesian(([1, 2, 3], [4, 5], [6, 7])))"
      ],
      "execution_count": 143,
      "outputs": [
        {
          "output_type": "stream",
          "text": [
            "[[1 4 6]\n",
            " [1 4 7]\n",
            " [1 5 6]\n",
            " [1 5 7]\n",
            " [2 4 6]\n",
            " [2 4 7]\n",
            " [2 5 6]\n",
            " [2 5 7]\n",
            " [3 4 6]\n",
            " [3 4 7]\n",
            " [3 5 6]\n",
            " [3 5 7]]\n"
          ],
          "name": "stdout"
        }
      ]
    },
    {
      "cell_type": "code",
      "metadata": {
        "id": "y1t8IfwcIxCi",
        "colab_type": "code",
        "colab": {
          "base_uri": "https://localhost:8080/",
          "height": 34
        },
        "outputId": "88bdb7ee-115c-4cd0-9717-7adbcb6cc462"
      },
      "source": [
        "#Question 91\n",
        "Z = np.array([(\"Hello\", 2.5, 3),\n",
        "              (\"World\", 3.6, 2)])\n",
        "R = np.core.records.fromarrays(Z.T,\n",
        "                               names='col1, col2, col3',\n",
        "                               formats = 'S8, f8, i8')\n",
        "print(R)"
      ],
      "execution_count": 144,
      "outputs": [
        {
          "output_type": "stream",
          "text": [
            "[(b'Hello', 2.5, 3) (b'World', 3.6, 2)]\n"
          ],
          "name": "stdout"
        }
      ]
    },
    {
      "cell_type": "code",
      "metadata": {
        "id": "UBwKd86fI0c6",
        "colab_type": "code",
        "colab": {
          "base_uri": "https://localhost:8080/",
          "height": 68
        },
        "outputId": "fb774f9b-f76a-48f2-bda6-98318c88a11c"
      },
      "source": [
        "#Question 92\n",
        "x = np.random.rand(int(5e7))\n",
        "\n",
        "%timeit np.power(x,3)\n",
        "%timeit x*x*x\n",
        "%timeit np.einsum('i,i,i->i',x,x,x)"
      ],
      "execution_count": 145,
      "outputs": [
        {
          "output_type": "stream",
          "text": [
            "1 loop, best of 3: 3.68 s per loop\n",
            "10 loops, best of 3: 165 ms per loop\n",
            "10 loops, best of 3: 150 ms per loop\n"
          ],
          "name": "stdout"
        }
      ]
    },
    {
      "cell_type": "code",
      "metadata": {
        "id": "3dr9p5QBI3_9",
        "colab_type": "code",
        "colab": {
          "base_uri": "https://localhost:8080/",
          "height": 34
        },
        "outputId": "5743505f-eb75-4ebd-b7ad-c18535d4d51c"
      },
      "source": [
        "#Question 93\n",
        "A = np.random.randint(0,5,(8,3))\n",
        "B = np.random.randint(0,5,(2,2))\n",
        "\n",
        "C = (A[..., np.newaxis, np.newaxis] == B)\n",
        "rows = np.where(C.any((3,1)).all(1))[0]\n",
        "print(rows)"
      ],
      "execution_count": 146,
      "outputs": [
        {
          "output_type": "stream",
          "text": [
            "[0 2 4 6 7]\n"
          ],
          "name": "stdout"
        }
      ]
    },
    {
      "cell_type": "code",
      "metadata": {
        "id": "2kujlADOI93l",
        "colab_type": "code",
        "colab": {
          "base_uri": "https://localhost:8080/",
          "height": 357
        },
        "outputId": "3ef28d30-253d-4d25-b0fb-3818d2dc8d8e"
      },
      "source": [
        "#Question 94\n",
        "Z = np.random.randint(0,5,(10,3))\n",
        "print(Z)\n",
        "# solution for arrays of all dtypes (including string arrays and record arrays)\n",
        "E = np.all(Z[:,1:] == Z[:,:-1], axis=1)\n",
        "U = Z[~E]\n",
        "print(U)"
      ],
      "execution_count": 147,
      "outputs": [
        {
          "output_type": "stream",
          "text": [
            "[[1 1 3]\n",
            " [0 4 2]\n",
            " [4 3 2]\n",
            " [4 1 3]\n",
            " [0 0 4]\n",
            " [4 0 2]\n",
            " [4 0 3]\n",
            " [0 1 4]\n",
            " [4 2 2]\n",
            " [0 0 2]]\n",
            "[[1 1 3]\n",
            " [0 4 2]\n",
            " [4 3 2]\n",
            " [4 1 3]\n",
            " [0 0 4]\n",
            " [4 0 2]\n",
            " [4 0 3]\n",
            " [0 1 4]\n",
            " [4 2 2]\n",
            " [0 0 2]]\n"
          ],
          "name": "stdout"
        }
      ]
    },
    {
      "cell_type": "code",
      "metadata": {
        "id": "kHFbfFv8JDSW",
        "colab_type": "code",
        "colab": {
          "base_uri": "https://localhost:8080/",
          "height": 170
        },
        "outputId": "5ba8bc45-74a8-4c91-9e8e-893c3c83f0d4"
      },
      "source": [
        "#Question 95\n",
        "I = np.array([0, 1, 2, 3, 15, 16, 32, 64, 128], dtype=np.uint8)\n",
        "print(np.unpackbits(I[:, np.newaxis], axis=1))"
      ],
      "execution_count": 148,
      "outputs": [
        {
          "output_type": "stream",
          "text": [
            "[[0 0 0 0 0 0 0 0]\n",
            " [0 0 0 0 0 0 0 1]\n",
            " [0 0 0 0 0 0 1 0]\n",
            " [0 0 0 0 0 0 1 1]\n",
            " [0 0 0 0 1 1 1 1]\n",
            " [0 0 0 1 0 0 0 0]\n",
            " [0 0 1 0 0 0 0 0]\n",
            " [0 1 0 0 0 0 0 0]\n",
            " [1 0 0 0 0 0 0 0]]\n"
          ],
          "name": "stdout"
        }
      ]
    },
    {
      "cell_type": "code",
      "metadata": {
        "id": "_xomSi7LJHV1",
        "colab_type": "code",
        "colab": {
          "base_uri": "https://localhost:8080/",
          "height": 527
        },
        "outputId": "288a842b-6604-4a30-8402-0d103b2bd18f"
      },
      "source": [
        "#Question 97\n",
        "\n",
        "A = np.random.uniform(0,1,10)\n",
        "B = np.random.uniform(0,1,10)\n",
        "\n",
        "np.einsum('i->', A)       # np.sum(A)\n",
        "np.einsum('i,i->i', A, B) # A * B\n",
        "np.einsum('i,i', A, B)    # np.inner(A, B)\n",
        "np.einsum('i,j->ij', A, B) "
      ],
      "execution_count": 149,
      "outputs": [
        {
          "output_type": "execute_result",
          "data": {
            "text/plain": [
              "array([[5.57561688e-01, 1.63396355e-01, 4.90883542e-01, 1.35457579e-01,\n",
              "        1.27793758e-01, 1.28788443e-03, 1.53682804e-01, 2.88247004e-01,\n",
              "        4.59949879e-01, 3.89137269e-01],\n",
              "       [3.89323604e-01, 1.14093309e-01, 3.42764853e-01, 9.45847501e-02,\n",
              "        8.92334026e-02, 8.99279519e-04, 1.07310715e-01, 2.01271653e-01,\n",
              "        3.21165081e-01, 2.71719395e-01],\n",
              "       [5.59812391e-01, 1.64055935e-01, 4.92865087e-01, 1.36004379e-01,\n",
              "        1.28309622e-01, 1.29308322e-03, 1.54303174e-01, 2.89410567e-01,\n",
              "        4.61806554e-01, 3.90708096e-01],\n",
              "       [3.75852372e-01, 1.10145494e-01, 3.30904630e-01, 9.13119635e-02,\n",
              "        8.61457813e-02, 8.68162981e-04, 1.03597589e-01, 1.94307325e-01,\n",
              "        3.10052245e-01, 2.62317460e-01],\n",
              "       [1.62882541e-01, 4.77335764e-02, 1.43403609e-01, 3.95717193e-02,\n",
              "        3.73328593e-02, 3.76234400e-04, 4.48959212e-02, 8.42066543e-02,\n",
              "        1.34366845e-01, 1.13680098e-01],\n",
              "       [4.18116565e-01, 1.22531236e-01, 3.68114497e-01, 1.01579895e-01,\n",
              "        9.58327811e-02, 9.65786968e-04, 1.15247026e-01, 2.16156974e-01,\n",
              "        3.44917284e-01, 2.91814775e-01],\n",
              "       [6.25921570e-01, 1.83429574e-01, 5.51068347e-01, 1.52065363e-01,\n",
              "        1.43461919e-01, 1.44578557e-03, 1.72525093e-01, 3.23587544e-01,\n",
              "        5.16342060e-01, 4.36847466e-01],\n",
              "       [4.09286387e-01, 1.19943506e-01, 3.60340310e-01, 9.94346353e-02,\n",
              "        9.38088945e-02, 9.45390572e-04, 1.12813131e-01, 2.11591968e-01,\n",
              "        3.37632997e-01, 2.85651956e-01],\n",
              "       [1.17011139e-01, 3.42907235e-02, 1.03017915e-01, 2.84274297e-02,\n",
              "        2.68190831e-02, 2.70278298e-04, 3.22522161e-02, 6.04921592e-02,\n",
              "        9.65261075e-02, 8.16652153e-02],\n",
              "       [6.43434721e-01, 1.88561894e-01, 5.66487121e-01, 1.56320119e-01,\n",
              "        1.47475953e-01, 1.48623834e-03, 1.77352308e-01, 3.32641454e-01,\n",
              "        5.30789200e-01, 4.49070365e-01]])"
            ]
          },
          "metadata": {
            "tags": []
          },
          "execution_count": 149
        }
      ]
    },
    {
      "cell_type": "code",
      "metadata": {
        "id": "1nYIh8KoJOis",
        "colab_type": "code",
        "colab": {}
      },
      "source": [
        "#Question 98\n",
        "phi = np.arange(0, 10*np.pi, 0.1)\n",
        "a = 1\n",
        "x = a*phi*np.cos(phi)\n",
        "y = a*phi*np.sin(phi)\n",
        "\n",
        "dr = (np.diff(x)**2 + np.diff(y)**2)**.5 # segment lengths\n",
        "r = np.zeros_like(x)\n",
        "r[1:] = np.cumsum(dr)                # integrate path\n",
        "r_int = np.linspace(0, r.max(), 200) # regular spaced path\n",
        "x_int = np.interp(r_int, r, x)       # integrate path\n",
        "y_int = np.interp(r_int, r, y)"
      ],
      "execution_count": 0,
      "outputs": []
    },
    {
      "cell_type": "code",
      "metadata": {
        "id": "cSzN4jFHJSUc",
        "colab_type": "code",
        "colab": {
          "base_uri": "https://localhost:8080/",
          "height": 34
        },
        "outputId": "24a20386-bac3-482e-9ede-e337bf0338a5"
      },
      "source": [
        "#Question 99\n",
        "X = np.asarray([[1.0, 0.0, 3.0, 8.0],\n",
        "                [2.0, 0.0, 1.0, 1.0],\n",
        "                [1.5, 2.5, 1.0, 0.0]])\n",
        "n = 4\n",
        "M = np.logical_and.reduce(np.mod(X, 1) == 0, axis=-1)\n",
        "M &= (X.sum(axis=-1) == n)\n",
        "print(X[M])"
      ],
      "execution_count": 151,
      "outputs": [
        {
          "output_type": "stream",
          "text": [
            "[[2. 0. 1. 1.]]\n"
          ],
          "name": "stdout"
        }
      ]
    },
    {
      "cell_type": "code",
      "metadata": {
        "id": "HlPbv0gsJVmX",
        "colab_type": "code",
        "colab": {
          "base_uri": "https://localhost:8080/",
          "height": 34
        },
        "outputId": "f08c8383-6363-41aa-a0e2-930a1ba8b43f"
      },
      "source": [
        "#Question 100\n",
        "X = np.random.randn(100) \n",
        "N = 1000 \n",
        "idx = np.random.randint(0, X.size, (N, X.size))\n",
        "means = X[idx].mean(axis=1)\n",
        "confint = np.percentile(means, [2.5, 97.5])\n",
        "print(confint)"
      ],
      "execution_count": 152,
      "outputs": [
        {
          "output_type": "stream",
          "text": [
            "[-0.39604777 -0.00292491]\n"
          ],
          "name": "stdout"
        }
      ]
    },
    {
      "cell_type": "code",
      "metadata": {
        "id": "iYYPDQ7XJZE0",
        "colab_type": "code",
        "colab": {}
      },
      "source": [
        ""
      ],
      "execution_count": 0,
      "outputs": []
    }
  ]
}